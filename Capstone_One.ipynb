{
  "nbformat": 4,
  "nbformat_minor": 0,
  "metadata": {
    "colab": {
      "name": "Capstone One.ipynb",
      "provenance": [],
      "collapsed_sections": [
        "yGDwJT4ISU7i"
      ],
      "authorship_tag": "ABX9TyNTfU9jYfcLMwYnxi86v0I9",
      "include_colab_link": true
    },
    "kernelspec": {
      "name": "python3",
      "display_name": "Python 3"
    }
  },
  "cells": [
    {
      "cell_type": "markdown",
      "metadata": {
        "id": "view-in-github",
        "colab_type": "text"
      },
      "source": [
        "<a href=\"https://colab.research.google.com/github/KalikaKay/Thinkful-Notebooks/blob/main/Capstone_One.ipynb\" target=\"_parent\"><img src=\"https://colab.research.google.com/assets/colab-badge.svg\" alt=\"Open In Colab\"/></a>"
      ]
    },
    {
      "cell_type": "markdown",
      "metadata": {
        "id": "yGDwJT4ISU7i"
      },
      "source": [
        "####head"
      ]
    },
    {
      "cell_type": "code",
      "metadata": {
        "id": "T1cmdMZM1mlN",
        "outputId": "5eb0eab4-6f44-4620-9150-4b22310d7f1d",
        "colab": {
          "base_uri": "https://localhost:8080/",
          "height": 876
        }
      },
      "source": [
        "#Setup access to Google CSV files\n",
        "import gspread \n",
        "from google.colab import auth\n",
        "from oauth2client.client import GoogleCredentials\n",
        "\n",
        "#Setup dataframe and visualizations\n",
        "import pandas as pd\n",
        "import seaborn as sns\n",
        "import matplotlib.pyplot as plt\n",
        "sns.set()\n",
        "\n",
        "#suppress warnings\n",
        "import warnings\n",
        "warnings.filterwarnings('ignore')\n",
        "\n",
        "#setup for dark theme\n",
        "plt.style.use(['dark_background'])\n",
        "\n",
        "auth.authenticate_user()\n",
        "gc = gspread.authorize(GoogleCredentials.get_application_default())\n",
        "\n",
        "\n",
        "wksPath = \"https://docs.google.com/spreadsheets/d/1C3wS-dpUQUWOztEDZLWCttnMjgmqOyzEkQ8XqVpdqzU\"\n",
        "wks = gc.open_by_url(wksPath).sheet1\n",
        "df = pd.DataFrame.from_records(wks.get_all_records())\n",
        "df.describe().T"
      ],
      "execution_count": null,
      "outputs": [
        {
          "output_type": "stream",
          "text": [
            "/usr/local/lib/python3.6/dist-packages/statsmodels/tools/_testing.py:19: FutureWarning: pandas.util.testing is deprecated. Use the functions in the public API at pandas.testing instead.\n",
            "  import pandas.util.testing as tm\n"
          ],
          "name": "stderr"
        },
        {
          "output_type": "execute_result",
          "data": {
            "text/html": [
              "<div>\n",
              "<style scoped>\n",
              "    .dataframe tbody tr th:only-of-type {\n",
              "        vertical-align: middle;\n",
              "    }\n",
              "\n",
              "    .dataframe tbody tr th {\n",
              "        vertical-align: top;\n",
              "    }\n",
              "\n",
              "    .dataframe thead th {\n",
              "        text-align: right;\n",
              "    }\n",
              "</style>\n",
              "<table border=\"1\" class=\"dataframe\">\n",
              "  <thead>\n",
              "    <tr style=\"text-align: right;\">\n",
              "      <th></th>\n",
              "      <th>count</th>\n",
              "      <th>mean</th>\n",
              "      <th>std</th>\n",
              "      <th>min</th>\n",
              "      <th>25%</th>\n",
              "      <th>50%</th>\n",
              "      <th>75%</th>\n",
              "      <th>max</th>\n",
              "    </tr>\n",
              "  </thead>\n",
              "  <tbody>\n",
              "    <tr>\n",
              "      <th>Age</th>\n",
              "      <td>1470.0</td>\n",
              "      <td>36.923810</td>\n",
              "      <td>9.135373</td>\n",
              "      <td>18.0</td>\n",
              "      <td>30.00</td>\n",
              "      <td>36.0</td>\n",
              "      <td>43.00</td>\n",
              "      <td>60.0</td>\n",
              "    </tr>\n",
              "    <tr>\n",
              "      <th>DailyRate</th>\n",
              "      <td>1470.0</td>\n",
              "      <td>802.485714</td>\n",
              "      <td>403.509100</td>\n",
              "      <td>102.0</td>\n",
              "      <td>465.00</td>\n",
              "      <td>802.0</td>\n",
              "      <td>1157.00</td>\n",
              "      <td>1499.0</td>\n",
              "    </tr>\n",
              "    <tr>\n",
              "      <th>DistanceFromHome</th>\n",
              "      <td>1470.0</td>\n",
              "      <td>9.192517</td>\n",
              "      <td>8.106864</td>\n",
              "      <td>1.0</td>\n",
              "      <td>2.00</td>\n",
              "      <td>7.0</td>\n",
              "      <td>14.00</td>\n",
              "      <td>29.0</td>\n",
              "    </tr>\n",
              "    <tr>\n",
              "      <th>Education</th>\n",
              "      <td>1470.0</td>\n",
              "      <td>2.912925</td>\n",
              "      <td>1.024165</td>\n",
              "      <td>1.0</td>\n",
              "      <td>2.00</td>\n",
              "      <td>3.0</td>\n",
              "      <td>4.00</td>\n",
              "      <td>5.0</td>\n",
              "    </tr>\n",
              "    <tr>\n",
              "      <th>EmployeeCount</th>\n",
              "      <td>1470.0</td>\n",
              "      <td>1.000000</td>\n",
              "      <td>0.000000</td>\n",
              "      <td>1.0</td>\n",
              "      <td>1.00</td>\n",
              "      <td>1.0</td>\n",
              "      <td>1.00</td>\n",
              "      <td>1.0</td>\n",
              "    </tr>\n",
              "    <tr>\n",
              "      <th>EmployeeNumber</th>\n",
              "      <td>1470.0</td>\n",
              "      <td>1024.865306</td>\n",
              "      <td>602.024335</td>\n",
              "      <td>1.0</td>\n",
              "      <td>491.25</td>\n",
              "      <td>1020.5</td>\n",
              "      <td>1555.75</td>\n",
              "      <td>2068.0</td>\n",
              "    </tr>\n",
              "    <tr>\n",
              "      <th>EnvironmentSatisfaction</th>\n",
              "      <td>1470.0</td>\n",
              "      <td>2.721769</td>\n",
              "      <td>1.093082</td>\n",
              "      <td>1.0</td>\n",
              "      <td>2.00</td>\n",
              "      <td>3.0</td>\n",
              "      <td>4.00</td>\n",
              "      <td>4.0</td>\n",
              "    </tr>\n",
              "    <tr>\n",
              "      <th>HourlyRate</th>\n",
              "      <td>1470.0</td>\n",
              "      <td>65.891156</td>\n",
              "      <td>20.329428</td>\n",
              "      <td>30.0</td>\n",
              "      <td>48.00</td>\n",
              "      <td>66.0</td>\n",
              "      <td>83.75</td>\n",
              "      <td>100.0</td>\n",
              "    </tr>\n",
              "    <tr>\n",
              "      <th>JobInvolvement</th>\n",
              "      <td>1470.0</td>\n",
              "      <td>2.729932</td>\n",
              "      <td>0.711561</td>\n",
              "      <td>1.0</td>\n",
              "      <td>2.00</td>\n",
              "      <td>3.0</td>\n",
              "      <td>3.00</td>\n",
              "      <td>4.0</td>\n",
              "    </tr>\n",
              "    <tr>\n",
              "      <th>JobLevel</th>\n",
              "      <td>1470.0</td>\n",
              "      <td>2.063946</td>\n",
              "      <td>1.106940</td>\n",
              "      <td>1.0</td>\n",
              "      <td>1.00</td>\n",
              "      <td>2.0</td>\n",
              "      <td>3.00</td>\n",
              "      <td>5.0</td>\n",
              "    </tr>\n",
              "    <tr>\n",
              "      <th>JobSatisfaction</th>\n",
              "      <td>1470.0</td>\n",
              "      <td>2.728571</td>\n",
              "      <td>1.102846</td>\n",
              "      <td>1.0</td>\n",
              "      <td>2.00</td>\n",
              "      <td>3.0</td>\n",
              "      <td>4.00</td>\n",
              "      <td>4.0</td>\n",
              "    </tr>\n",
              "    <tr>\n",
              "      <th>MonthlyIncome</th>\n",
              "      <td>1470.0</td>\n",
              "      <td>6502.931293</td>\n",
              "      <td>4707.956783</td>\n",
              "      <td>1009.0</td>\n",
              "      <td>2911.00</td>\n",
              "      <td>4919.0</td>\n",
              "      <td>8379.00</td>\n",
              "      <td>19999.0</td>\n",
              "    </tr>\n",
              "    <tr>\n",
              "      <th>MonthlyRate</th>\n",
              "      <td>1470.0</td>\n",
              "      <td>14313.103401</td>\n",
              "      <td>7117.786044</td>\n",
              "      <td>2094.0</td>\n",
              "      <td>8047.00</td>\n",
              "      <td>14235.5</td>\n",
              "      <td>20461.50</td>\n",
              "      <td>26999.0</td>\n",
              "    </tr>\n",
              "    <tr>\n",
              "      <th>NumCompaniesWorked</th>\n",
              "      <td>1470.0</td>\n",
              "      <td>2.693197</td>\n",
              "      <td>2.498009</td>\n",
              "      <td>0.0</td>\n",
              "      <td>1.00</td>\n",
              "      <td>2.0</td>\n",
              "      <td>4.00</td>\n",
              "      <td>9.0</td>\n",
              "    </tr>\n",
              "    <tr>\n",
              "      <th>PercentSalaryHike</th>\n",
              "      <td>1470.0</td>\n",
              "      <td>15.209524</td>\n",
              "      <td>3.659938</td>\n",
              "      <td>11.0</td>\n",
              "      <td>12.00</td>\n",
              "      <td>14.0</td>\n",
              "      <td>18.00</td>\n",
              "      <td>25.0</td>\n",
              "    </tr>\n",
              "    <tr>\n",
              "      <th>PerformanceRating</th>\n",
              "      <td>1470.0</td>\n",
              "      <td>3.153741</td>\n",
              "      <td>0.360824</td>\n",
              "      <td>3.0</td>\n",
              "      <td>3.00</td>\n",
              "      <td>3.0</td>\n",
              "      <td>3.00</td>\n",
              "      <td>4.0</td>\n",
              "    </tr>\n",
              "    <tr>\n",
              "      <th>RelationshipSatisfaction</th>\n",
              "      <td>1470.0</td>\n",
              "      <td>2.712245</td>\n",
              "      <td>1.081209</td>\n",
              "      <td>1.0</td>\n",
              "      <td>2.00</td>\n",
              "      <td>3.0</td>\n",
              "      <td>4.00</td>\n",
              "      <td>4.0</td>\n",
              "    </tr>\n",
              "    <tr>\n",
              "      <th>StandardHours</th>\n",
              "      <td>1470.0</td>\n",
              "      <td>80.000000</td>\n",
              "      <td>0.000000</td>\n",
              "      <td>80.0</td>\n",
              "      <td>80.00</td>\n",
              "      <td>80.0</td>\n",
              "      <td>80.00</td>\n",
              "      <td>80.0</td>\n",
              "    </tr>\n",
              "    <tr>\n",
              "      <th>StockOptionLevel</th>\n",
              "      <td>1470.0</td>\n",
              "      <td>0.793878</td>\n",
              "      <td>0.852077</td>\n",
              "      <td>0.0</td>\n",
              "      <td>0.00</td>\n",
              "      <td>1.0</td>\n",
              "      <td>1.00</td>\n",
              "      <td>3.0</td>\n",
              "    </tr>\n",
              "    <tr>\n",
              "      <th>TotalWorkingYears</th>\n",
              "      <td>1470.0</td>\n",
              "      <td>11.279592</td>\n",
              "      <td>7.780782</td>\n",
              "      <td>0.0</td>\n",
              "      <td>6.00</td>\n",
              "      <td>10.0</td>\n",
              "      <td>15.00</td>\n",
              "      <td>40.0</td>\n",
              "    </tr>\n",
              "    <tr>\n",
              "      <th>TrainingTimesLastYear</th>\n",
              "      <td>1470.0</td>\n",
              "      <td>2.799320</td>\n",
              "      <td>1.289271</td>\n",
              "      <td>0.0</td>\n",
              "      <td>2.00</td>\n",
              "      <td>3.0</td>\n",
              "      <td>3.00</td>\n",
              "      <td>6.0</td>\n",
              "    </tr>\n",
              "    <tr>\n",
              "      <th>WorkLifeBalance</th>\n",
              "      <td>1470.0</td>\n",
              "      <td>2.761224</td>\n",
              "      <td>0.706476</td>\n",
              "      <td>1.0</td>\n",
              "      <td>2.00</td>\n",
              "      <td>3.0</td>\n",
              "      <td>3.00</td>\n",
              "      <td>4.0</td>\n",
              "    </tr>\n",
              "    <tr>\n",
              "      <th>YearsAtCompany</th>\n",
              "      <td>1470.0</td>\n",
              "      <td>7.008163</td>\n",
              "      <td>6.126525</td>\n",
              "      <td>0.0</td>\n",
              "      <td>3.00</td>\n",
              "      <td>5.0</td>\n",
              "      <td>9.00</td>\n",
              "      <td>40.0</td>\n",
              "    </tr>\n",
              "    <tr>\n",
              "      <th>YearsInCurrentRole</th>\n",
              "      <td>1470.0</td>\n",
              "      <td>4.229252</td>\n",
              "      <td>3.623137</td>\n",
              "      <td>0.0</td>\n",
              "      <td>2.00</td>\n",
              "      <td>3.0</td>\n",
              "      <td>7.00</td>\n",
              "      <td>18.0</td>\n",
              "    </tr>\n",
              "    <tr>\n",
              "      <th>YearsSinceLastPromotion</th>\n",
              "      <td>1470.0</td>\n",
              "      <td>2.187755</td>\n",
              "      <td>3.222430</td>\n",
              "      <td>0.0</td>\n",
              "      <td>0.00</td>\n",
              "      <td>1.0</td>\n",
              "      <td>3.00</td>\n",
              "      <td>15.0</td>\n",
              "    </tr>\n",
              "    <tr>\n",
              "      <th>YearsWithCurrManager</th>\n",
              "      <td>1470.0</td>\n",
              "      <td>4.123129</td>\n",
              "      <td>3.568136</td>\n",
              "      <td>0.0</td>\n",
              "      <td>2.00</td>\n",
              "      <td>3.0</td>\n",
              "      <td>7.00</td>\n",
              "      <td>17.0</td>\n",
              "    </tr>\n",
              "  </tbody>\n",
              "</table>\n",
              "</div>"
            ],
            "text/plain": [
              "                           count          mean  ...       75%      max\n",
              "Age                       1470.0     36.923810  ...     43.00     60.0\n",
              "DailyRate                 1470.0    802.485714  ...   1157.00   1499.0\n",
              "DistanceFromHome          1470.0      9.192517  ...     14.00     29.0\n",
              "Education                 1470.0      2.912925  ...      4.00      5.0\n",
              "EmployeeCount             1470.0      1.000000  ...      1.00      1.0\n",
              "EmployeeNumber            1470.0   1024.865306  ...   1555.75   2068.0\n",
              "EnvironmentSatisfaction   1470.0      2.721769  ...      4.00      4.0\n",
              "HourlyRate                1470.0     65.891156  ...     83.75    100.0\n",
              "JobInvolvement            1470.0      2.729932  ...      3.00      4.0\n",
              "JobLevel                  1470.0      2.063946  ...      3.00      5.0\n",
              "JobSatisfaction           1470.0      2.728571  ...      4.00      4.0\n",
              "MonthlyIncome             1470.0   6502.931293  ...   8379.00  19999.0\n",
              "MonthlyRate               1470.0  14313.103401  ...  20461.50  26999.0\n",
              "NumCompaniesWorked        1470.0      2.693197  ...      4.00      9.0\n",
              "PercentSalaryHike         1470.0     15.209524  ...     18.00     25.0\n",
              "PerformanceRating         1470.0      3.153741  ...      3.00      4.0\n",
              "RelationshipSatisfaction  1470.0      2.712245  ...      4.00      4.0\n",
              "StandardHours             1470.0     80.000000  ...     80.00     80.0\n",
              "StockOptionLevel          1470.0      0.793878  ...      1.00      3.0\n",
              "TotalWorkingYears         1470.0     11.279592  ...     15.00     40.0\n",
              "TrainingTimesLastYear     1470.0      2.799320  ...      3.00      6.0\n",
              "WorkLifeBalance           1470.0      2.761224  ...      3.00      4.0\n",
              "YearsAtCompany            1470.0      7.008163  ...      9.00     40.0\n",
              "YearsInCurrentRole        1470.0      4.229252  ...      7.00     18.0\n",
              "YearsSinceLastPromotion   1470.0      2.187755  ...      3.00     15.0\n",
              "YearsWithCurrManager      1470.0      4.123129  ...      7.00     17.0\n",
              "\n",
              "[26 rows x 8 columns]"
            ]
          },
          "metadata": {
            "tags": []
          },
          "execution_count": 1
        }
      ]
    },
    {
      "cell_type": "code",
      "metadata": {
        "id": "3sbPVvQrfySH"
      },
      "source": [
        "from scipy import stats\n",
        "import math\n",
        "\n",
        "def get_95_ci(array_1, array_2):\n",
        "    sample_1_n = array_1.shape[0]\n",
        "    sample_2_n = array_2.shape[0]\n",
        "    sample_1_mean = array_1.mean()\n",
        "    sample_2_mean = array_2.mean()\n",
        "    sample_1_var = array_1.var()\n",
        "    sample_2_var = array_2.var()\n",
        "    mean_difference = sample_2_mean - sample_1_mean\n",
        "    std_err_difference = math.sqrt((sample_1_var/sample_1_n)+(sample_2_var/sample_2_n))\n",
        "    margin_of_error = 1.96 * std_err_difference\n",
        "    ci_lower = mean_difference - margin_of_error\n",
        "    ci_upper = mean_difference + margin_of_error\n",
        "    \n",
        "    return(\"The difference in means at the 95% confidence interval (two-tail) is between \"+str(ci_lower)+\" and \"+str(ci_upper)+\".\")\n",
        "\n",
        "def printDiag(col):\n",
        "  #This is new stuff that I'm looking at. Okay, so I need to take a look at two fields as they relate to attrition. So I want to separate the dataframe.\n",
        "  stay = df.iloc[(df[\"Attrition\"] == 'No').values][[col]]\n",
        "  separate = df.iloc[(df[\"Attrition\"] == 'Yes').values][[col]]\n",
        "\n",
        "  #T=Test Variable and histograms\n",
        "  #Description of the two distributions\n",
        "  print(\"Stay:\", stats.describe(stay[col]))\n",
        "  print(\"Separate:\", stats.describe(separate[col]))\n",
        "\n",
        "  #What about the p value?\n",
        "  print(stats.ttest_ind(stay[col], separate[col]))\n",
        "  print(\"Assuming the distribution is normal: \", get_95_ci(stay[col], separate[col]))\n",
        "\n",
        "  plt.hist(stay[col], alpha = .5, color=\"red\")\n",
        "  plt.hist(separate[col], alpha = .5, color=\"pink\")\n",
        "  plt.show()"
      ],
      "execution_count": null,
      "outputs": []
    },
    {
      "cell_type": "markdown",
      "metadata": {
        "id": "_x3_Jh8dy9AD"
      },
      "source": [
        "##IBM HR Analytics Employee Attrition\n",
        "*A Thinkful Capstone One project*\n",
        "\n",
        ">*by Kalika Kay Curry*"
      ]
    },
    {
      "cell_type": "markdown",
      "metadata": {
        "id": "d8NksjtbTk8e"
      },
      "source": [
        "This is an analysis of [IBM's employee attrition](https://www.kaggle.com/pavansubhasht/ibm-hr-analytics-attrition-dataset), which is an evaluation of the ability to retain quality employees. The organization has a 16% attrition rate. This value exceeds the amount of attrition for most successful businesses by 6%.\n",
        "\n",
        "The dataset contains demographic, economic, and survey information about their employees. We will be taking a look at a few key factors from the data and see how they relate to attrition.\n",
        "\n",
        "Based on our findings, there will be a recommendation to reduce the attrition. "
      ]
    },
    {
      "cell_type": "code",
      "metadata": {
        "id": "jrjVCzSzUeQt",
        "outputId": "d51871a2-624c-449b-ae06-ab201e74b18c",
        "colab": {
          "base_uri": "https://localhost:8080/",
          "height": 186
        }
      },
      "source": [
        "s = df[['PercentSalaryHike', 'TrainingTimesLastYear','PercentSalaryHike', 'MonthlyIncome', 'Attrition', 'Education']]\n",
        "s.groupby(by='Attrition').describe()"
      ],
      "execution_count": null,
      "outputs": [
        {
          "output_type": "execute_result",
          "data": {
            "text/html": [
              "<div>\n",
              "<style scoped>\n",
              "    .dataframe tbody tr th:only-of-type {\n",
              "        vertical-align: middle;\n",
              "    }\n",
              "\n",
              "    .dataframe tbody tr th {\n",
              "        vertical-align: top;\n",
              "    }\n",
              "\n",
              "    .dataframe thead tr th {\n",
              "        text-align: left;\n",
              "    }\n",
              "\n",
              "    .dataframe thead tr:last-of-type th {\n",
              "        text-align: right;\n",
              "    }\n",
              "</style>\n",
              "<table border=\"1\" class=\"dataframe\">\n",
              "  <thead>\n",
              "    <tr>\n",
              "      <th></th>\n",
              "      <th colspan=\"16\" halign=\"left\">PercentSalaryHike</th>\n",
              "      <th colspan=\"8\" halign=\"left\">TrainingTimesLastYear</th>\n",
              "      <th colspan=\"8\" halign=\"left\">MonthlyIncome</th>\n",
              "      <th colspan=\"8\" halign=\"left\">Education</th>\n",
              "    </tr>\n",
              "    <tr>\n",
              "      <th></th>\n",
              "      <th>count</th>\n",
              "      <th>mean</th>\n",
              "      <th>std</th>\n",
              "      <th>min</th>\n",
              "      <th>25%</th>\n",
              "      <th>50%</th>\n",
              "      <th>75%</th>\n",
              "      <th>max</th>\n",
              "      <th>count</th>\n",
              "      <th>mean</th>\n",
              "      <th>std</th>\n",
              "      <th>min</th>\n",
              "      <th>25%</th>\n",
              "      <th>50%</th>\n",
              "      <th>75%</th>\n",
              "      <th>max</th>\n",
              "      <th>count</th>\n",
              "      <th>mean</th>\n",
              "      <th>std</th>\n",
              "      <th>min</th>\n",
              "      <th>25%</th>\n",
              "      <th>50%</th>\n",
              "      <th>75%</th>\n",
              "      <th>max</th>\n",
              "      <th>count</th>\n",
              "      <th>mean</th>\n",
              "      <th>std</th>\n",
              "      <th>min</th>\n",
              "      <th>25%</th>\n",
              "      <th>50%</th>\n",
              "      <th>75%</th>\n",
              "      <th>max</th>\n",
              "      <th>count</th>\n",
              "      <th>mean</th>\n",
              "      <th>std</th>\n",
              "      <th>min</th>\n",
              "      <th>25%</th>\n",
              "      <th>50%</th>\n",
              "      <th>75%</th>\n",
              "      <th>max</th>\n",
              "    </tr>\n",
              "    <tr>\n",
              "      <th>Attrition</th>\n",
              "      <th></th>\n",
              "      <th></th>\n",
              "      <th></th>\n",
              "      <th></th>\n",
              "      <th></th>\n",
              "      <th></th>\n",
              "      <th></th>\n",
              "      <th></th>\n",
              "      <th></th>\n",
              "      <th></th>\n",
              "      <th></th>\n",
              "      <th></th>\n",
              "      <th></th>\n",
              "      <th></th>\n",
              "      <th></th>\n",
              "      <th></th>\n",
              "      <th></th>\n",
              "      <th></th>\n",
              "      <th></th>\n",
              "      <th></th>\n",
              "      <th></th>\n",
              "      <th></th>\n",
              "      <th></th>\n",
              "      <th></th>\n",
              "      <th></th>\n",
              "      <th></th>\n",
              "      <th></th>\n",
              "      <th></th>\n",
              "      <th></th>\n",
              "      <th></th>\n",
              "      <th></th>\n",
              "      <th></th>\n",
              "      <th></th>\n",
              "      <th></th>\n",
              "      <th></th>\n",
              "      <th></th>\n",
              "      <th></th>\n",
              "      <th></th>\n",
              "      <th></th>\n",
              "      <th></th>\n",
              "    </tr>\n",
              "  </thead>\n",
              "  <tbody>\n",
              "    <tr>\n",
              "      <th>No</th>\n",
              "      <td>1233.0</td>\n",
              "      <td>15.231144</td>\n",
              "      <td>3.639511</td>\n",
              "      <td>11.0</td>\n",
              "      <td>12.0</td>\n",
              "      <td>14.0</td>\n",
              "      <td>18.0</td>\n",
              "      <td>25.0</td>\n",
              "      <td>1233.0</td>\n",
              "      <td>15.231144</td>\n",
              "      <td>3.639511</td>\n",
              "      <td>11.0</td>\n",
              "      <td>12.0</td>\n",
              "      <td>14.0</td>\n",
              "      <td>18.0</td>\n",
              "      <td>25.0</td>\n",
              "      <td>1233.0</td>\n",
              "      <td>2.832928</td>\n",
              "      <td>1.293585</td>\n",
              "      <td>0.0</td>\n",
              "      <td>2.0</td>\n",
              "      <td>3.0</td>\n",
              "      <td>3.0</td>\n",
              "      <td>6.0</td>\n",
              "      <td>1233.0</td>\n",
              "      <td>6832.739659</td>\n",
              "      <td>4818.208001</td>\n",
              "      <td>1051.0</td>\n",
              "      <td>3211.0</td>\n",
              "      <td>5204.0</td>\n",
              "      <td>8834.0</td>\n",
              "      <td>19999.0</td>\n",
              "      <td>1233.0</td>\n",
              "      <td>2.927007</td>\n",
              "      <td>1.027002</td>\n",
              "      <td>1.0</td>\n",
              "      <td>2.0</td>\n",
              "      <td>3.0</td>\n",
              "      <td>4.0</td>\n",
              "      <td>5.0</td>\n",
              "    </tr>\n",
              "    <tr>\n",
              "      <th>Yes</th>\n",
              "      <td>237.0</td>\n",
              "      <td>15.097046</td>\n",
              "      <td>3.770294</td>\n",
              "      <td>11.0</td>\n",
              "      <td>12.0</td>\n",
              "      <td>14.0</td>\n",
              "      <td>17.0</td>\n",
              "      <td>25.0</td>\n",
              "      <td>237.0</td>\n",
              "      <td>15.097046</td>\n",
              "      <td>3.770294</td>\n",
              "      <td>11.0</td>\n",
              "      <td>12.0</td>\n",
              "      <td>14.0</td>\n",
              "      <td>17.0</td>\n",
              "      <td>25.0</td>\n",
              "      <td>237.0</td>\n",
              "      <td>2.624473</td>\n",
              "      <td>1.254784</td>\n",
              "      <td>0.0</td>\n",
              "      <td>2.0</td>\n",
              "      <td>2.0</td>\n",
              "      <td>3.0</td>\n",
              "      <td>6.0</td>\n",
              "      <td>237.0</td>\n",
              "      <td>4787.092827</td>\n",
              "      <td>3640.210367</td>\n",
              "      <td>1009.0</td>\n",
              "      <td>2373.0</td>\n",
              "      <td>3202.0</td>\n",
              "      <td>5916.0</td>\n",
              "      <td>19859.0</td>\n",
              "      <td>237.0</td>\n",
              "      <td>2.839662</td>\n",
              "      <td>1.008244</td>\n",
              "      <td>1.0</td>\n",
              "      <td>2.0</td>\n",
              "      <td>3.0</td>\n",
              "      <td>4.0</td>\n",
              "      <td>5.0</td>\n",
              "    </tr>\n",
              "  </tbody>\n",
              "</table>\n",
              "</div>"
            ],
            "text/plain": [
              "          PercentSalaryHike                             ... Education               \n",
              "                      count       mean       std   min  ...       25%  50%  75%  max\n",
              "Attrition                                               ...                         \n",
              "No                   1233.0  15.231144  3.639511  11.0  ...       2.0  3.0  4.0  5.0\n",
              "Yes                   237.0  15.097046  3.770294  11.0  ...       2.0  3.0  4.0  5.0\n",
              "\n",
              "[2 rows x 40 columns]"
            ]
          },
          "metadata": {
            "tags": []
          },
          "execution_count": 3
        }
      ]
    },
    {
      "cell_type": "markdown",
      "metadata": {
        "id": "psvRILr1Qix6"
      },
      "source": [
        "#IBM Attrition Hypothesis Analysis\n",
        "\n",
        "Employees that are educated and that train more often will be more likely to leave the company if they are paid less with respect to employees that aren't/don't.\n",
        "\n",
        "#Education and Training \n",
        "\n",
        "If education and training both impact the attrition; I would expect that the two would show some correlation.\n",
        "\n",
        "*Does the education level of the employee relate to the amount of training that they're taking?*\n"
      ]
    },
    {
      "cell_type": "code",
      "metadata": {
        "id": "MtxwDcKYQiLV",
        "outputId": "ae7a9263-f832-4540-da8f-501e3cc4caad",
        "colab": {
          "base_uri": "https://localhost:8080/",
          "height": 356
        }
      },
      "source": [
        "print(\"Correlation:\", df['TrainingTimesLastYear'].corr(df['Education']))\n",
        "plt.figure(figsize=(10,5))\n",
        "ax = sns.boxenplot(x=\"TrainingTimesLastYear\", y=\"Education\", data=df)"
      ],
      "execution_count": null,
      "outputs": [
        {
          "output_type": "stream",
          "text": [
            "Correlation: -0.02510024113793358\n"
          ],
          "name": "stdout"
        },
        {
          "output_type": "display_data",
          "data": {
            "image/png": "[encoded data removed]",
            "text/plain": [
              "<Figure size 720x360 with 1 Axes>"
            ]
          },
          "metadata": {
            "tags": [],
            "needs_background": "dark"
          }
        }
      ]
    },
    {
      "cell_type": "markdown",
      "metadata": {
        "id": "FqHdHqwemTS-"
      },
      "source": [
        "I ran a test for correlation and according to Pearson's coefficient, a highly educated employee is no more or less likely to engage in training. \n",
        "\n",
        "Likewise; a highly trained employee is no more or less likely to get an education. \n",
        "\n",
        "**Hypothesis Result**\n",
        "\n",
        "$H = $ People who are more educated train more often. \n",
        "\n",
        "$H_{0} = $ There is no relationship between the education level and times trained last year.\n",
        "\n",
        "At an absolute value of 0.025, the Pearson coefficient is so close to zero that I cannot override the null hypothesis that there is no relationship between the amount of training and the amount of education."
      ]
    },
    {
      "cell_type": "markdown",
      "metadata": {
        "id": "9zi3S6x1ndl5"
      },
      "source": [
        "*Do educated employees get paid more or less at this company, monthly?*\n"
      ]
    },
    {
      "cell_type": "code",
      "metadata": {
        "id": "Ew3YwBrj31_J",
        "outputId": "758f6cfb-ce2f-475b-b6e8-28944373a971",
        "colab": {
          "base_uri": "https://localhost:8080/",
          "height": 356
        }
      },
      "source": [
        "print(\"Correllation:\", df['MonthlyIncome'].corr(df['Education']))\n",
        "\n",
        "plt.figure(figsize=(10,5))\n",
        "ax = sns.violinplot(x=\"Education\", y=\"MonthlyIncome\", data=df)\n",
        "plt.show()"
      ],
      "execution_count": null,
      "outputs": [
        {
          "output_type": "stream",
          "text": [
            "Correllation: 0.09496067704188886\n"
          ],
          "name": "stdout"
        },
        {
          "output_type": "display_data",
          "data": {
            "image/png": "[encoded data removed]",
            "text/plain": [
              "<Figure size 720x360 with 1 Axes>"
            ]
          },
          "metadata": {
            "tags": [],
            "needs_background": "dark"
          }
        }
      ]
    },
    {
      "cell_type": "markdown",
      "metadata": {
        "id": "yixsAnZMugOL"
      },
      "source": [
        "I ran a test for correlation and according to Pearson's coefficient, a higher level of education has no impact on monthly income at this organization.\n",
        "\n",
        "**Hypothesis Result**\n",
        "\n",
        "$H = $ People who have a higher education level have a higher monthly income. \n",
        "\n",
        "$H_{0} = $ There is no relationship between the education level and their monthly income.\n",
        "\n",
        "At an absolute value of 0.09, the Pearson coefficient is so close to zero that I cannot reject the null hypthosis. There is no relationship between an employee's monthly income and their education level. "
      ]
    },
    {
      "cell_type": "markdown",
      "metadata": {
        "id": "44qtebk0s3L6"
      },
      "source": [
        "*Do employees who train more often earn more?*"
      ]
    },
    {
      "cell_type": "code",
      "metadata": {
        "id": "uDvEGJm6wicM",
        "outputId": "e39828fb-4863-44fe-b30e-2c6eede44b71",
        "colab": {
          "base_uri": "https://localhost:8080/",
          "height": 358
        }
      },
      "source": [
        "print(\"Correlation:\", df['MonthlyIncome'].corr(df['TrainingTimesLastYear']))\n",
        "plt.figure(figsize=(10,5))\n",
        "ax = sns.violinplot(x=\"TrainingTimesLastYear\", y=\"MonthlyIncome\", data=df)\n",
        "plt.show()"
      ],
      "execution_count": null,
      "outputs": [
        {
          "output_type": "stream",
          "text": [
            "Correlation: -0.02173627682389327\n"
          ],
          "name": "stdout"
        },
        {
          "output_type": "display_data",
          "data": {
            "image/png": "[encoded data removed]",
            "text/plain": [
              "<Figure size 720x360 with 1 Axes>"
            ]
          },
          "metadata": {
            "tags": [],
            "needs_background": "dark"
          }
        }
      ]
    },
    {
      "cell_type": "markdown",
      "metadata": {
        "id": "u2CAoeQ2wIx6"
      },
      "source": [
        "I ran a test for correlation and according to Pearson's coefficient, the amount of training has no impact on the amount of income at this organization.\n",
        "\n",
        "**Hypothesis Result**\n",
        "\n",
        "$H = $ People who train more, annually, have a higher monthly income. \n",
        "\n",
        "$H_{0} = $ There is no relationship between the employee's annual training amount and employee monthly income.\n",
        "\n",
        "At an absolute value of 0.02, the Pearson coefficient is so close to zero that I state that $H_{0}$ is true. There is no relationship between an employee's monthly income and the amount of training."
      ]
    },
    {
      "cell_type": "markdown",
      "metadata": {
        "id": "tTLrjvr-0K8E"
      },
      "source": [
        "#What Have We Learned?\n",
        "*Education and Training*\n",
        "\n",
        "An employee's education and training don't have an impact on monthly income at this organization. \n",
        "\n",
        "These findings negate the following aspects of my hypothesis.\n",
        "\n",
        "Attrition is by employees that are:\n",
        "1.   Paid less and train more *than those that don't train as often.*\n",
        "2.   Paid less and are higher educated *than those that aren't as educated*\n",
        "\n",
        "It also negates the idea that those who are educated, train more.\n",
        "\n",
        "**Hypothesis:**\n",
        "\n",
        "Employees that are educated and that train more often will be more likely to leave the company if they are paid less with respect to employees that aren't/don't.\n",
        "\n",
        "Part One Result: *There is no relation between being educated, monthly income, and training*"
      ]
    },
    {
      "cell_type": "markdown",
      "metadata": {
        "id": "F2Lv40DCarcM"
      },
      "source": [
        "#Attrition\n",
        "Remaining Hypothesis: \n",
        "\n",
        "**Employees that are more educated will be more likely to leave the company. Employees that train more will be more likely to leave the company. Employees that earn less will be more likely to leave the company.**\n",
        "\n",
        "Review both attrition values on their monthly income, training, and education in order to complete the analysis for this hypothesis. \n",
        "\n",
        "Does Monthly Income impact the attrition?\n"
      ]
    },
    {
      "cell_type": "code",
      "metadata": {
        "id": "IxSChV4_CnGT",
        "outputId": "b3d649de-20cd-46b4-eb7a-ce2860e716be",
        "colab": {
          "base_uri": "https://localhost:8080/",
          "height": 355
        }
      },
      "source": [
        "printDiag('MonthlyIncome')"
      ],
      "execution_count": null,
      "outputs": [
        {
          "output_type": "stream",
          "text": [
            "Stay: DescribeResult(nobs=1233, minmax=(1051, 19999), mean=6832.739659367397, variance=23215128.338823583, skewness=1.2846660875596987, kurtosis=0.664057751851538)\n",
            "Separate: DescribeResult(nobs=237, minmax=(1009, 19859), mean=4787.0928270042195, variance=13251131.516770363, skewness=1.908966310070742, kurtosis=4.068929804278029)\n",
            "Ttest_indResult(statistic=6.203935765608938, pvalue=7.14736398535381e-10)\n",
            "Assuming the distribution is normal:  The difference in means at the 95% confidence interval (two-tail) is between -2581.48413817964 and -1509.809526546714.\n"
          ],
          "name": "stdout"
        },
        {
          "output_type": "display_data",
          "data": {
            "image/png": "[encoded data removed]",
            "text/plain": [
              "<Figure size 432x288 with 1 Axes>"
            ]
          },
          "metadata": {
            "tags": [],
            "needs_background": "dark"
          }
        }
      ]
    },
    {
      "cell_type": "markdown",
      "metadata": {
        "id": "lnHonxuK7P11"
      },
      "source": [
        "The kurtosis is too high on these results. I will accept the null hypothesis and ascertain that there is not a significant diffference in monthly income between employees that stay and leave.\n",
        "\n",
        "**Hypothesis**\n",
        "\n",
        "$H=$  People who earn less are more likely to leave the company.\n",
        "\n",
        "$H_{0}=$  There is no significant difference in monthly income between employees that stay and employees that leave.\n",
        "\n",
        "With a kurtosis of 4.0, the data does not fall within the means of normality. I accept the null hypothesis that there is no relationship between employee monthly income and attrition. \n",
        "\n",
        "*Do education levels have an impact on attrition?*\n"
      ]
    },
    {
      "cell_type": "code",
      "metadata": {
        "id": "FLzUNHsCURFa",
        "outputId": "54169856-88b7-4327-ce18-cc186ed367d0",
        "colab": {
          "base_uri": "https://localhost:8080/",
          "height": 335
        }
      },
      "source": [
        "printDiag('Education')"
      ],
      "execution_count": null,
      "outputs": [
        {
          "output_type": "stream",
          "text": [
            "Stay: DescribeResult(nobs=1233, minmax=(1, 5), mean=2.927007299270073, variance=1.054732676083041, skewness=-0.2855924930065903, kurtosis=-0.5630979644679606)\n",
            "Separate: DescribeResult(nobs=237, minmax=(1, 5), mean=2.839662447257384, variance=1.0165558177787315, skewness=-0.32159499449978696, kurtosis=-0.5661793799203254)\n",
            "Ttest_indResult(statistic=1.202625515508589, pvalue=0.2293152033223043)\n",
            "Assuming the distribution is normal:  The difference in means at the 95% confidence interval (two-tail) is between -0.22792871143514373 and 0.05323900740976631.\n"
          ],
          "name": "stdout"
        },
        {
          "output_type": "display_data",
          "data": {
            "image/png": "[encoded data removed]",
            "text/plain": [
              "<Figure size 432x288 with 1 Axes>"
            ]
          },
          "metadata": {
            "tags": [],
            "needs_background": "dark"
          }
        }
      ]
    },
    {
      "cell_type": "markdown",
      "metadata": {
        "id": "GXc1-RB99UFX"
      },
      "source": [
        "There is no real difference between education level when it comes to attrition.\n",
        "\n",
        "**Hypothesis**\n",
        "\n",
        "$H=$  People with higher education levels are more likely to leave the company.\n",
        "\n",
        "$H_{0}=$  There is no significant difference in education levels between employees that stay and employees that leave.\n",
        "\n",
        "The data does fall within the range of normality. The tTest statistic 1.22 is too low and probability of 23% is too high to reject the null hypothesis that there is no significant difference in education levels between those employees that stay or leave. "
      ]
    },
    {
      "cell_type": "code",
      "metadata": {
        "id": "2eaPyXCyS8DC",
        "outputId": "7ec2651d-e597-4e60-f81a-26e25389fadb",
        "colab": {
          "base_uri": "https://localhost:8080/",
          "height": 335
        }
      },
      "source": [
        "printDiag('TrainingTimesLastYear')"
      ],
      "execution_count": null,
      "outputs": [
        {
          "output_type": "stream",
          "text": [
            "Stay: DescribeResult(nobs=1233, minmax=(0, 6), mean=2.8329278183292783, variance=1.6733629306622007, skewness=0.5893457796652429, kurtosis=0.4406020934601762)\n",
            "Separate: DescribeResult(nobs=237, minmax=(0, 6), mean=2.6244725738396624, variance=1.5744833011513981, skewness=0.3356451034337823, kurtosis=0.6192099574838474)\n",
            "Ttest_indResult(statistic=2.2829029923666897, pvalue=0.02257849973720126)\n",
            "Assuming the distribution is normal:  The difference in means at the 95% confidence interval (two-tail) is between -0.3837688576753809 and -0.033141631303851005.\n"
          ],
          "name": "stdout"
        },
        {
          "output_type": "display_data",
          "data": {
            "image/png": "[encoded data removed]",
            "text/plain": [
              "<Figure size 432x288 with 1 Axes>"
            ]
          },
          "metadata": {
            "tags": [],
            "needs_background": "dark"
          }
        }
      ]
    },
    {
      "cell_type": "markdown",
      "metadata": {
        "id": "Xm5jt7hz_Utd"
      },
      "source": [
        "Employees that stay with the company train one time more often than those that don't, annually. That is; employees that train three times or more a year, are more likely to stay with the company. \n",
        "\n",
        "**Hypothesis**\n",
        "\n",
        "$H=$  People with who train more often are more likely to leave the company.\n",
        "\n",
        "$H_{0}=$  There is no significant difference in the number of annual traning times between employees that stay and employees that leave.\n",
        "\n",
        "The data does fall within the range of normality. The tTest statistic of 2.2 is high enough to accept the result and the probability of 2.2% places these results within the 95% confidence interval levels. \n",
        "\n",
        "There is a .022 probability that the results returned with respect to the null hypothesis were done by random chance. I reject both the null hypothesis and  original hypothesis.\n",
        "\n",
        "When it comes to attrition, there is a significant difference between the annual training count. The confidence interval returns values that are slightly greater than zero. Since annual training is a single instance in time, I must evaluate to the nearest whole number, which is one. "
      ]
    },
    {
      "cell_type": "markdown",
      "metadata": {
        "id": "I8BApmoLDYLO"
      },
      "source": [
        "#Conclusion\n",
        "\n",
        "IBM has a high attrition rate. I examined their attrition data to determine whether employees that are educated and that train more often are more likely to leave the company if they are paid less with respect to employees that aren't/don't.\n",
        "\n",
        "IBM is more likely to retain employees that train three times a year. \n",
        "\n",
        "I recommend that IBM hire people who have been undergoing training this year, with an expectation of new hire training and a second training date to ensure retention."
      ]
    }
  ]
}