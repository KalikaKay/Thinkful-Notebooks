{
  "nbformat": 4,
  "nbformat_minor": 0,
  "metadata": {
    "colab": {
      "name": "multiclass_classifiers_Template.ipynb",
      "provenance": [],
      "collapsed_sections": []
    },
    "kernelspec": {
      "display_name": "Python 3",
      "language": "python",
      "name": "python3"
    },
    "language_info": {
      "codemirror_mode": {
        "name": "ipython",
        "version": 3
      },
      "file_extension": ".py",
      "mimetype": "text/x-python",
      "name": "python",
      "nbconvert_exporter": "python",
      "pygments_lexer": "ipython3",
      "version": "3.7.6"
    }
  },
  "cells": [
    {
      "cell_type": "markdown",
      "metadata": {
        "id": "iD1KjC8-hl_P"
      },
      "source": [
        "# Multiclass Classifiers\n",
        "In this assignment you will load a dataset and train two models to perform multiclass classification and compare the results of the models. The dataset is the **digits** dataset available from the sklearn's *datasets* library. This dataset contain 1797 samples of written digits. The goal is to correctly identify digits from 0 to 9."
      ]
    },
    {
      "cell_type": "markdown",
      "metadata": {
        "id": "sZYeUk8FjHsd"
      },
      "source": [
        "## Load the data\n",
        "\n",
        "1. import the *load_digits* function from the *sklearn.datasets* library\n",
        "2. invoke *load_digits* with the *return_X_y* parameter set to true and store the returned dataset in variable **X** and **y**."
      ]
    },
    {
      "cell_type": "code",
      "metadata": {
        "id": "yU07T75-he8U"
      },
      "source": [
        "from sklearn.datasets import load_digits\n",
        "X, y = load_digits(return_X_y=True)"
      ],
      "execution_count": null,
      "outputs": []
    },
    {
      "cell_type": "markdown",
      "metadata": {
        "id": "isPHrCpCj5lL"
      },
      "source": [
        "## Exploratory Data Analysis\n",
        "Perform a few exploratory  steps including:\n",
        "\n",
        "1. Display the number of rows of data returned\n",
        "2. Display the number of features in the dataset\n",
        "3. Use Numpy's **bincount** to display how many samples belong to each class. Is this a balanced dataset?"
      ]
    },
    {
      "cell_type": "code",
      "metadata": {
        "id": "EX7gj8IGkTu7",
        "outputId": "a3d81de2-68f3-4afd-ac59-1dac00db1fcd",
        "colab": {
          "base_uri": "https://localhost:8080/",
          "height": 67
        }
      },
      "source": [
        "import numpy as np\n",
        "\n",
        "print('The number of rows in the dataset is {:d}'.format(X.data.shape[0]))\n",
        "print('The number of features in the dataset is {:d}'.format(X.data.shape[1]))\n",
        "np.bincount(y)"
      ],
      "execution_count": null,
      "outputs": [
        {
          "output_type": "stream",
          "text": [
            "The number of rows in the dataset is 1797\n",
            "The number of features in the dataset is 64\n"
          ],
          "name": "stdout"
        },
        {
          "output_type": "execute_result",
          "data": {
            "text/plain": [
              "array([178, 182, 177, 183, 181, 182, 181, 179, 174, 180])"
            ]
          },
          "metadata": {
            "tags": []
          },
          "execution_count": 27
        }
      ]
    },
    {
      "cell_type": "markdown",
      "metadata": {
        "id": "g9EgR2-UH1_X"
      },
      "source": [
        "Yes. This is a fairly well balanced dataset.\n"
      ]
    },
    {
      "cell_type": "markdown",
      "metadata": {
        "id": "6AdSZLoalPDO"
      },
      "source": [
        "## Prepare training and testing data\n",
        "1. Use *train_test_split* to split the dataset into a training set and a test set. Set the proportion of test data to 20%. Set a random state value so that the results will be repeatable."
      ]
    },
    {
      "cell_type": "code",
      "metadata": {
        "id": "xw3sKI1RISva"
      },
      "source": [
        "from sklearn.model_selection import train_test_split"
      ],
      "execution_count": null,
      "outputs": []
    },
    {
      "cell_type": "code",
      "metadata": {
        "id": "ZHN5j82-Iu5m",
        "outputId": "59600722-504a-4829-e5aa-3d59b21e2846",
        "colab": {
          "base_uri": "https://localhost:8080/",
          "height": 34
        }
      },
      "source": [
        "#Size of the test set.\n",
        "SIZE = 0.2\n",
        "X_train, X_test, y_train, y_test = train_test_split(X, y, test_size=SIZE, random_state=42)\n",
        "print('There are {:d} training samples and {:d} test samples'.format(X_train.shape[0], X_test.shape[0]))"
      ],
      "execution_count": null,
      "outputs": [
        {
          "output_type": "stream",
          "text": [
            "There are 1437 training samples and 360 test samples\n"
          ],
          "name": "stdout"
        }
      ]
    },
    {
      "cell_type": "markdown",
      "metadata": {
        "id": "of-cq2s0mdx6"
      },
      "source": [
        "## Cross validation with Logistic Regression\n",
        "In this step you will create a LogisticRegression classifier and use 5-fold cross validation to train the model.\n",
        "\n",
        "1. import *LogisticRegression* classifier from sklearn\n",
        "2. instantiate a LogisticRegression classifier with the 'lbfgs' solver and 'ovr' multiclass strategy. You may have to set the maximum number of iterations to 1000.\n",
        "3. perform cross validation on the model\n",
        "4. print the cross validation scores and the mean of the cross validation scores."
      ]
    },
    {
      "cell_type": "code",
      "metadata": {
        "id": "8ETb2QOwJzIO"
      },
      "source": [
        "from sklearn.linear_model import LogisticRegression\n",
        "from sklearn.model_selection import cross_val_score "
      ],
      "execution_count": null,
      "outputs": []
    },
    {
      "cell_type": "code",
      "metadata": {
        "id": "UMdjcXaplne9",
        "outputId": "1ac520de-20e0-415d-d1a3-fe7f5d762db1",
        "colab": {
          "base_uri": "https://localhost:8080/",
          "height": 50
        }
      },
      "source": [
        "lr_clf = LogisticRegression(solver='lbfgs', multi_class='ovr', penalty='none', max_iter=1000)\n",
        "lr_cv_scores = cross_val_score(lr_clf, X, y, cv = 5)\n",
        "\n",
        "print('Accuracy scores for the 5 folds: ', lr_cv_scores)\n",
        "print('Mean cross validation score: {:.3f}'.format(np.mean(lr_cv_scores)))"
      ],
      "execution_count": null,
      "outputs": [
        {
          "output_type": "stream",
          "text": [
            "Accuracy scores for the 5 folds:  [0.86944444 0.83888889 0.89415042 0.93314763 0.8718663 ]\n",
            "Mean cross validation score: 0.881\n"
          ],
          "name": "stdout"
        }
      ]
    },
    {
      "cell_type": "markdown",
      "metadata": {
        "id": "PcZHs1vYoRBN"
      },
      "source": [
        "## Cross validation with RandomForest\n",
        "Perform the same steps as above but this time with a RandomForestClassifier."
      ]
    },
    {
      "cell_type": "code",
      "metadata": {
        "id": "pCD2ROdToySP",
        "outputId": "5a4ce86d-0d58-433b-92e5-98ed64f2dbe7",
        "colab": {
          "base_uri": "https://localhost:8080/",
          "height": 50
        }
      },
      "source": [
        "from sklearn.ensemble import RandomForestClassifier\n",
        "\n",
        "rf_clf = RandomForestClassifier(n_estimators=24)\n",
        "rf_cv_scores = cross_val_score(lr_clf, X, y, cv = 5)\n",
        "\n",
        "print('Accuracy scores for the 5 folds: ', lr_cv_scores)\n",
        "print('Mean cross validation score: {:.3f}'.format(np.mean(lr_cv_scores)))"
      ],
      "execution_count": null,
      "outputs": [
        {
          "output_type": "stream",
          "text": [
            "Accuracy scores for the 5 folds:  [0.86944444 0.83888889 0.89415042 0.93314763 0.8718663 ]\n",
            "Mean cross validation score: 0.881\n"
          ],
          "name": "stdout"
        }
      ]
    }
  ]
}