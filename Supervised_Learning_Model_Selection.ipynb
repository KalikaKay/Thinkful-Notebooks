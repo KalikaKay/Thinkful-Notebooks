{
  "nbformat": 4,
  "nbformat_minor": 0,
  "metadata": {
    "colab": {
      "name": "Supervised Learning: Model Selection.ipynb",
      "provenance": [],
      "collapsed_sections": [],
      "authorship_tag": "ABX9TyMAizhgbpiz0wK/GclV0k7T",
      "include_colab_link": true
    },
    "kernelspec": {
      "name": "python3",
      "display_name": "Python 3"
    }
  },
  "cells": [
    {
      "cell_type": "markdown",
      "metadata": {
        "id": "view-in-github",
        "colab_type": "text"
      },
      "source": [
        "<a href=\"https://colab.research.google.com/github/KalikaKay/Thinkful-Notebooks/blob/main/Supervised_Learning_Model_Selection.ipynb\" target=\"_parent\"><img src=\"https://colab.research.google.com/assets/colab-badge.svg\" alt=\"Open In Colab\"/></a>"
      ]
    },
    {
      "cell_type": "markdown",
      "metadata": {
        "id": "_aGwR5m5gc6H"
      },
      "source": [
        "#####import files\n"
      ]
    },
    {
      "cell_type": "code",
      "metadata": {
        "id": "FMKehFzkfDFK"
      },
      "source": [
        "#Access to Google files\n",
        "import gspread \n",
        "from google.colab import auth\n",
        "from oauth2client.client import GoogleCredentials\n",
        "\n",
        "#Data Exploration: Dataframe and visualizations\n",
        "import numpy as np\n",
        "import pandas as pd\n",
        "import seaborn as sns\n",
        "import matplotlib.pyplot as plt\n",
        "import itertools\n",
        "from matplotlib.collections import PatchCollection\n",
        "import math\n",
        "from scipy import stats\n",
        "import math\n",
        "sns.set()\n",
        "\n",
        "#Data Cleaning - Test Split\n",
        "from sklearn.model_selection import train_test_split, cross_val_score\n",
        "\n",
        "\n",
        "#Feature Engineering\n",
        "from sklearn.utils import resample\n",
        "from sklearn.feature_selection import SelectKBest, chi2, f_classif, GenericUnivariateSelect\n",
        "from sklearn.decomposition import PCA\n",
        "\n",
        "#Modeling\n",
        "from sklearn.model_selection import GridSearchCV\n",
        "from sklearn.metrics import confusion_matrix\n",
        "from sklearn.dummy import DummyClassifier\n",
        "from sklearn.neighbors import KNeighborsClassifier\n",
        "from sklearn.ensemble import RandomForestClassifier\n",
        "from sklearn.tree import DecisionTreeClassifier\n",
        "from sklearn.svm import SVC\n",
        "from sklearn.ensemble import GradientBoostingClassifier\n",
        "from sklearn.linear_model import LogisticRegression\n",
        "\n",
        "#Evaluation\n",
        "from sklearn.model_selection import cross_val_score\n",
        "from sklearn.metrics import classification_report\n",
        "\n",
        "#suppress warnings\n",
        "import warnings\n",
        "warnings.filterwarnings('ignore')\n",
        "\n",
        "#my favorite color\n",
        "mycolor = '#F9EDF5'"
      ],
      "execution_count": null,
      "outputs": []
    },
    {
      "cell_type": "markdown",
      "metadata": {
        "id": "po9DzFf57Jjc"
      },
      "source": [
        "##### functions\n"
      ]
    },
    {
      "cell_type": "code",
      "metadata": {
        "id": "gFCjk4dzaXB6"
      },
      "source": [
        "def printDiag(dfa, dfb, col):\n",
        "\n",
        "  #T=Test Variable and histograms\n",
        "  #Description of the two distributions\n",
        "  print(\"First Set:\", stats.describe(dfa[col]))\n",
        "  print(\"Second Set:\", stats.describe(dfb[col]))\n",
        "\n",
        "  #What about the p value?\n",
        "  print(stats.ttest_ind(dfa[col], dfb[col]))\n",
        "  print(\"Assuming the distribution is normal: \", get_95_ci(dfa[col], dfb[col]))\n",
        "\n",
        "  plt.hist(dfa[col], alpha = .6, color=\"red\")\n",
        "  plt.hist(dfb[col], alpha = .2, color=\"white\")\n",
        "  #plt.xlabel=''\n",
        "  plt.show()"
      ],
      "execution_count": null,
      "outputs": []
    },
    {
      "cell_type": "code",
      "metadata": {
        "id": "lcG5zkPxmJXz"
      },
      "source": [
        "def plot_cm(cm, classes,normalize, title='Confusion matrix'):\n",
        "  #Some Stylization.\n",
        "  plt.style.use(['dark_background'])\n",
        "  \n",
        "  #Confusion Matrix \n",
        "  N = len(cm[0])\n",
        "  M = len(cm[1])\n",
        "  #Labels\n",
        "  ylabels = [classes[0], classes[1]]\n",
        "  xlabels = [classes[0], classes[1]]\n",
        "\n",
        "  #Assign X and y.\n",
        "  x, y = np.meshgrid(np.arange(M), np.arange(N))\n",
        "  \n",
        "  s = cm\n",
        "  c = cm\n",
        "\n",
        "  fig, ax = plt.subplots(figsize=(14, 11))\n",
        "\n",
        "  #Circles\n",
        "  R = s/s.max()/2\n",
        "  circles = [plt.Circle((j,i), radius=r) for r, j, i in zip(R.flat, x.flat, y.flat)]\n",
        "  col = PatchCollection(circles, array=c.flatten(), cmap=plt.cm.coolwarm)\n",
        "  ax.add_collection(col)\n",
        "  ax.set(xticks=np.arange(M), yticks=np.arange(N),\n",
        "        xticklabels=xlabels, yticklabels=ylabels)\n",
        "  ax.set_xticks(np.arange(M+1)-0.5, minor=True)\n",
        "  ax.set_yticks(np.arange(N+1)-0.5, minor=True)\n",
        "  ax.grid(b=False, which='minor')\n",
        "  \n",
        "  #Add the Text\n",
        "  thresh = cm.max() / 4.\n",
        "  fmt = 'd'\n",
        "  for i, j in itertools.product(range(cm.shape[0]), range(cm.shape[1])):\n",
        "   plt.text(j, i, format(cm[i, j], fmt),\n",
        "            horizontalalignment=\"center\", verticalalignment=\"center\",\n",
        "            color=\"white\")\n",
        "   \n",
        "  #Titles and labels. \n",
        "  plt.title = title\n",
        "  plt.ylabel('True label')\n",
        "  plt.xlabel('Predicted label')\n",
        "  fig.colorbar(col)\n",
        "  plt.show()"
      ],
      "execution_count": null,
      "outputs": []
    },
    {
      "cell_type": "code",
      "metadata": {
        "id": "3Yl9Bsn8zd4R"
      },
      "source": [
        "def dummyCompetition(score):\n",
        "  #Dummy Classifier, set to most_frequent for my unbalanced dataset.\n",
        "  dc = DummyClassifier(strategy='most_frequent')\n",
        "\n",
        "  #Fit and score. The goal is to beat this thing.\n",
        "  dc.fit(X_train,y_train)\n",
        "  dummy = dc.score(X_test, y_test)\n",
        "  if (score < dummy):\n",
        "    return \"You lost to the dummy\"\n",
        "  else:\n",
        "    return \"You Won!\""
      ],
      "execution_count": null,
      "outputs": []
    },
    {
      "cell_type": "code",
      "metadata": {
        "id": "yPymU87y7Gbs"
      },
      "source": [
        "#A summary of missing variables represented as a percentage of the total missing content. \n",
        "def missingness_summary(df, print_log=False, sort='ascending'):\n",
        "  s = df.isnull().sum()*100/df.isnull().count()\n",
        "    \n",
        "  if sort.lower() == 'ascending':\n",
        "    s = s.sort_values(ascending=True)\n",
        "  elif sort.lower() == 'descending':\n",
        "    s = s.sort_values(ascending=False)  \n",
        "  if print_log: \n",
        "    print(s)\n",
        "  \n",
        "  return pd.Series(s)"
      ],
      "execution_count": null,
      "outputs": []
    },
    {
      "cell_type": "code",
      "metadata": {
        "id": "DaF1QbNG9Kof"
      },
      "source": [
        "#A map designed for a correlation matrix.  \n",
        "def the_best_map(corr):\n",
        "  mask = np.zeros_like(corr)\n",
        "  mask[np.triu_indices_from(mask)] = False\n",
        "  with sns.axes_style(\"white\"):\n",
        "    f, ax = plt.subplots(figsize=(15, 15))\n",
        "    ax = sns.heatmap(data=corr, annot=True, square=True, fmt='.1g', center=0.7, mask=mask, vmin=0, vmax=1)\n",
        "  plt.show()"
      ],
      "execution_count": null,
      "outputs": []
    },
    {
      "cell_type": "code",
      "metadata": {
        "id": "m5zLBV3o-Y1K"
      },
      "source": [
        "def getBest(model, cv_results, best_index):\n",
        "  disinterested = ['params',\t'split0_test_score',\t'split1_test_score',\t'split2_test_score',\t'split3_test_score',\t'split4_test_score']\n",
        "  \n",
        "  best = pd.DataFrame(cv_results).drop(columns=disinterested)\n",
        "  best_score = best.iloc[best_index]\n",
        "  best.dropna(inplace=True)\n",
        "  best = best[(best['mean_fit_time'] == best.mean_fit_time.min()) | (best['mean_score_time'] == best.mean_score_time.min())]\n",
        "  if best_index not in best:\n",
        "    best = best.append(best_score)\n",
        "  best['model'] = model\n",
        "  return best\n"
      ],
      "execution_count": null,
      "outputs": []
    },
    {
      "cell_type": "code",
      "metadata": {
        "id": "l15U0vSJdq6I"
      },
      "source": [
        "def get_95_ci(array_1, array_2):\n",
        "    sample_1_n = array_1.shape[0]\n",
        "    sample_2_n = array_2.shape[0]\n",
        "    sample_1_mean = array_1.mean()\n",
        "    sample_2_mean = array_2.mean()\n",
        "    sample_1_var = array_1.var()\n",
        "    sample_2_var = array_2.var()\n",
        "    mean_difference = sample_2_mean - sample_1_mean\n",
        "    std_err_difference = math.sqrt((sample_1_var/sample_1_n)+(sample_2_var/sample_2_n))\n",
        "    margin_of_error = 1.96 * std_err_difference\n",
        "    ci_lower = mean_difference - margin_of_error\n",
        "    ci_upper = mean_difference + margin_of_error\n",
        "    return(\"The difference in means at the 95% confidence interval (two-tail) is between \"+str(ci_lower)+\" and \"+str(ci_upper)+\".\")"
      ],
      "execution_count": null,
      "outputs": []
    },
    {
      "cell_type": "markdown",
      "metadata": {
        "id": "yrKrRyNYgict"
      },
      "source": [
        "## Modeling for Prediction\n",
        "*A Thinkful Capstone Two project*\n",
        "\n",
        ">*by Kalika Kay Curry*"
      ]
    },
    {
      "cell_type": "markdown",
      "metadata": {
        "id": "w1TsTS0wfKcf"
      },
      "source": [
        "This is an analysis six of sklearns's predictive classification models. \n",
        "\n",
        "* knn\n",
        "* deicison tree \n",
        "* random forest\n",
        "* svc\n",
        "* linear classifier\n",
        "* gradient boost\n",
        "\n",
        "Using the [telecom churn](https://www.kaggle.com/zagarsuren/telecom-churn-dataset-ibm-watson-analytics?select=WA_Fn-UseC_-Telco-Customer-Churn.xlsx) dataset available on Kaggle, this notebook uses principle component analysis and sklearn's skbest modules retrieve the best features to use in each of the prediction models. \n",
        "\n",
        "Results from each predictive model are compared against a dummy classifier as a fun performance metric for the best parameters.\n",
        "\n",
        "Last, but not least, there's a brief time comparison between each of the models using, using their minimal time results. "
      ]
    },
    {
      "cell_type": "markdown",
      "metadata": {
        "id": "1zK13K0pqToy"
      },
      "source": [
        "# Exploratory Data Analysis"
      ]
    },
    {
      "cell_type": "markdown",
      "metadata": {
        "id": "ozZyMj43qk1A"
      },
      "source": [
        "The first part of the project requires an exploration of the data, data cleaning, and feature engineering to create a clean dataset that can be interpreted by the classification models. "
      ]
    },
    {
      "cell_type": "markdown",
      "metadata": {
        "id": "H3i2tnxTmpvf"
      },
      "source": [
        "## Data Exploration"
      ]
    },
    {
      "cell_type": "code",
      "metadata": {
        "id": "cpm8TYDbjWvm",
        "outputId": "ceb0f14a-4a66-49d5-afd9-8b22a69bc4ef",
        "colab": {
          "base_uri": "https://localhost:8080/",
          "height": 407
        }
      },
      "source": [
        "#Connect to the data set. \n",
        "auth.authenticate_user()\n",
        "gc = gspread.authorize(GoogleCredentials.get_application_default())\n",
        "\n",
        "\n",
        "wksPath = \"https://docs.google.com/spreadsheets/d/14FWICDXhtn-KB6Frf3UHH3OZxa_xZ1j-qBdphM7EGvY\"\n",
        "wks = gc.open_by_url(wksPath).sheet1\n",
        "\n",
        "#my main dataframe of data that I'm working with. \n",
        "df = pd.DataFrame.from_records(wks.get_all_records())\n",
        "\n",
        "#Look at the data.\n",
        "df.describe(include='all')"
      ],
      "execution_count": null,
      "outputs": [
        {
          "output_type": "execute_result",
          "data": {
            "text/html": [
              "<div>\n",
              "<style scoped>\n",
              "    .dataframe tbody tr th:only-of-type {\n",
              "        vertical-align: middle;\n",
              "    }\n",
              "\n",
              "    .dataframe tbody tr th {\n",
              "        vertical-align: top;\n",
              "    }\n",
              "\n",
              "    .dataframe thead th {\n",
              "        text-align: right;\n",
              "    }\n",
              "</style>\n",
              "<table border=\"1\" class=\"dataframe\">\n",
              "  <thead>\n",
              "    <tr style=\"text-align: right;\">\n",
              "      <th></th>\n",
              "      <th>customerID</th>\n",
              "      <th>gender</th>\n",
              "      <th>SeniorCitizen</th>\n",
              "      <th>Partner</th>\n",
              "      <th>Dependents</th>\n",
              "      <th>tenure</th>\n",
              "      <th>PhoneService</th>\n",
              "      <th>MultipleLines</th>\n",
              "      <th>InternetService</th>\n",
              "      <th>OnlineSecurity</th>\n",
              "      <th>OnlineBackup</th>\n",
              "      <th>DeviceProtection</th>\n",
              "      <th>TechSupport</th>\n",
              "      <th>StreamingTV</th>\n",
              "      <th>StreamingMovies</th>\n",
              "      <th>Contract</th>\n",
              "      <th>PaperlessBilling</th>\n",
              "      <th>PaymentMethod</th>\n",
              "      <th>MonthlyCharges</th>\n",
              "      <th>TotalCharges</th>\n",
              "      <th>Churn</th>\n",
              "    </tr>\n",
              "  </thead>\n",
              "  <tbody>\n",
              "    <tr>\n",
              "      <th>count</th>\n",
              "      <td>7043</td>\n",
              "      <td>7043</td>\n",
              "      <td>7043.000000</td>\n",
              "      <td>7043</td>\n",
              "      <td>7043</td>\n",
              "      <td>7043.000000</td>\n",
              "      <td>7043</td>\n",
              "      <td>7043</td>\n",
              "      <td>7043</td>\n",
              "      <td>7043</td>\n",
              "      <td>7043</td>\n",
              "      <td>7043</td>\n",
              "      <td>7043</td>\n",
              "      <td>7043</td>\n",
              "      <td>7043</td>\n",
              "      <td>7043</td>\n",
              "      <td>7043</td>\n",
              "      <td>7043</td>\n",
              "      <td>7043.000000</td>\n",
              "      <td>7043</td>\n",
              "      <td>7043</td>\n",
              "    </tr>\n",
              "    <tr>\n",
              "      <th>unique</th>\n",
              "      <td>7043</td>\n",
              "      <td>2</td>\n",
              "      <td>NaN</td>\n",
              "      <td>2</td>\n",
              "      <td>2</td>\n",
              "      <td>NaN</td>\n",
              "      <td>2</td>\n",
              "      <td>3</td>\n",
              "      <td>3</td>\n",
              "      <td>3</td>\n",
              "      <td>3</td>\n",
              "      <td>3</td>\n",
              "      <td>3</td>\n",
              "      <td>3</td>\n",
              "      <td>3</td>\n",
              "      <td>3</td>\n",
              "      <td>2</td>\n",
              "      <td>4</td>\n",
              "      <td>NaN</td>\n",
              "      <td>6531</td>\n",
              "      <td>2</td>\n",
              "    </tr>\n",
              "    <tr>\n",
              "      <th>top</th>\n",
              "      <td>2439-QKJUL</td>\n",
              "      <td>Male</td>\n",
              "      <td>NaN</td>\n",
              "      <td>No</td>\n",
              "      <td>No</td>\n",
              "      <td>NaN</td>\n",
              "      <td>Yes</td>\n",
              "      <td>No</td>\n",
              "      <td>Fiber optic</td>\n",
              "      <td>No</td>\n",
              "      <td>No</td>\n",
              "      <td>No</td>\n",
              "      <td>No</td>\n",
              "      <td>No</td>\n",
              "      <td>No</td>\n",
              "      <td>Month-to-month</td>\n",
              "      <td>Yes</td>\n",
              "      <td>Electronic check</td>\n",
              "      <td>NaN</td>\n",
              "      <td></td>\n",
              "      <td>No</td>\n",
              "    </tr>\n",
              "    <tr>\n",
              "      <th>freq</th>\n",
              "      <td>1</td>\n",
              "      <td>3555</td>\n",
              "      <td>NaN</td>\n",
              "      <td>3641</td>\n",
              "      <td>4933</td>\n",
              "      <td>NaN</td>\n",
              "      <td>6361</td>\n",
              "      <td>3390</td>\n",
              "      <td>3096</td>\n",
              "      <td>3498</td>\n",
              "      <td>3088</td>\n",
              "      <td>3095</td>\n",
              "      <td>3473</td>\n",
              "      <td>2810</td>\n",
              "      <td>2785</td>\n",
              "      <td>3875</td>\n",
              "      <td>4171</td>\n",
              "      <td>2365</td>\n",
              "      <td>NaN</td>\n",
              "      <td>11</td>\n",
              "      <td>5174</td>\n",
              "    </tr>\n",
              "    <tr>\n",
              "      <th>mean</th>\n",
              "      <td>NaN</td>\n",
              "      <td>NaN</td>\n",
              "      <td>0.162147</td>\n",
              "      <td>NaN</td>\n",
              "      <td>NaN</td>\n",
              "      <td>32.371149</td>\n",
              "      <td>NaN</td>\n",
              "      <td>NaN</td>\n",
              "      <td>NaN</td>\n",
              "      <td>NaN</td>\n",
              "      <td>NaN</td>\n",
              "      <td>NaN</td>\n",
              "      <td>NaN</td>\n",
              "      <td>NaN</td>\n",
              "      <td>NaN</td>\n",
              "      <td>NaN</td>\n",
              "      <td>NaN</td>\n",
              "      <td>NaN</td>\n",
              "      <td>64.761692</td>\n",
              "      <td>NaN</td>\n",
              "      <td>NaN</td>\n",
              "    </tr>\n",
              "    <tr>\n",
              "      <th>std</th>\n",
              "      <td>NaN</td>\n",
              "      <td>NaN</td>\n",
              "      <td>0.368612</td>\n",
              "      <td>NaN</td>\n",
              "      <td>NaN</td>\n",
              "      <td>24.559481</td>\n",
              "      <td>NaN</td>\n",
              "      <td>NaN</td>\n",
              "      <td>NaN</td>\n",
              "      <td>NaN</td>\n",
              "      <td>NaN</td>\n",
              "      <td>NaN</td>\n",
              "      <td>NaN</td>\n",
              "      <td>NaN</td>\n",
              "      <td>NaN</td>\n",
              "      <td>NaN</td>\n",
              "      <td>NaN</td>\n",
              "      <td>NaN</td>\n",
              "      <td>30.090047</td>\n",
              "      <td>NaN</td>\n",
              "      <td>NaN</td>\n",
              "    </tr>\n",
              "    <tr>\n",
              "      <th>min</th>\n",
              "      <td>NaN</td>\n",
              "      <td>NaN</td>\n",
              "      <td>0.000000</td>\n",
              "      <td>NaN</td>\n",
              "      <td>NaN</td>\n",
              "      <td>0.000000</td>\n",
              "      <td>NaN</td>\n",
              "      <td>NaN</td>\n",
              "      <td>NaN</td>\n",
              "      <td>NaN</td>\n",
              "      <td>NaN</td>\n",
              "      <td>NaN</td>\n",
              "      <td>NaN</td>\n",
              "      <td>NaN</td>\n",
              "      <td>NaN</td>\n",
              "      <td>NaN</td>\n",
              "      <td>NaN</td>\n",
              "      <td>NaN</td>\n",
              "      <td>18.250000</td>\n",
              "      <td>NaN</td>\n",
              "      <td>NaN</td>\n",
              "    </tr>\n",
              "    <tr>\n",
              "      <th>25%</th>\n",
              "      <td>NaN</td>\n",
              "      <td>NaN</td>\n",
              "      <td>0.000000</td>\n",
              "      <td>NaN</td>\n",
              "      <td>NaN</td>\n",
              "      <td>9.000000</td>\n",
              "      <td>NaN</td>\n",
              "      <td>NaN</td>\n",
              "      <td>NaN</td>\n",
              "      <td>NaN</td>\n",
              "      <td>NaN</td>\n",
              "      <td>NaN</td>\n",
              "      <td>NaN</td>\n",
              "      <td>NaN</td>\n",
              "      <td>NaN</td>\n",
              "      <td>NaN</td>\n",
              "      <td>NaN</td>\n",
              "      <td>NaN</td>\n",
              "      <td>35.500000</td>\n",
              "      <td>NaN</td>\n",
              "      <td>NaN</td>\n",
              "    </tr>\n",
              "    <tr>\n",
              "      <th>50%</th>\n",
              "      <td>NaN</td>\n",
              "      <td>NaN</td>\n",
              "      <td>0.000000</td>\n",
              "      <td>NaN</td>\n",
              "      <td>NaN</td>\n",
              "      <td>29.000000</td>\n",
              "      <td>NaN</td>\n",
              "      <td>NaN</td>\n",
              "      <td>NaN</td>\n",
              "      <td>NaN</td>\n",
              "      <td>NaN</td>\n",
              "      <td>NaN</td>\n",
              "      <td>NaN</td>\n",
              "      <td>NaN</td>\n",
              "      <td>NaN</td>\n",
              "      <td>NaN</td>\n",
              "      <td>NaN</td>\n",
              "      <td>NaN</td>\n",
              "      <td>70.350000</td>\n",
              "      <td>NaN</td>\n",
              "      <td>NaN</td>\n",
              "    </tr>\n",
              "    <tr>\n",
              "      <th>75%</th>\n",
              "      <td>NaN</td>\n",
              "      <td>NaN</td>\n",
              "      <td>0.000000</td>\n",
              "      <td>NaN</td>\n",
              "      <td>NaN</td>\n",
              "      <td>55.000000</td>\n",
              "      <td>NaN</td>\n",
              "      <td>NaN</td>\n",
              "      <td>NaN</td>\n",
              "      <td>NaN</td>\n",
              "      <td>NaN</td>\n",
              "      <td>NaN</td>\n",
              "      <td>NaN</td>\n",
              "      <td>NaN</td>\n",
              "      <td>NaN</td>\n",
              "      <td>NaN</td>\n",
              "      <td>NaN</td>\n",
              "      <td>NaN</td>\n",
              "      <td>89.850000</td>\n",
              "      <td>NaN</td>\n",
              "      <td>NaN</td>\n",
              "    </tr>\n",
              "    <tr>\n",
              "      <th>max</th>\n",
              "      <td>NaN</td>\n",
              "      <td>NaN</td>\n",
              "      <td>1.000000</td>\n",
              "      <td>NaN</td>\n",
              "      <td>NaN</td>\n",
              "      <td>72.000000</td>\n",
              "      <td>NaN</td>\n",
              "      <td>NaN</td>\n",
              "      <td>NaN</td>\n",
              "      <td>NaN</td>\n",
              "      <td>NaN</td>\n",
              "      <td>NaN</td>\n",
              "      <td>NaN</td>\n",
              "      <td>NaN</td>\n",
              "      <td>NaN</td>\n",
              "      <td>NaN</td>\n",
              "      <td>NaN</td>\n",
              "      <td>NaN</td>\n",
              "      <td>118.750000</td>\n",
              "      <td>NaN</td>\n",
              "      <td>NaN</td>\n",
              "    </tr>\n",
              "  </tbody>\n",
              "</table>\n",
              "</div>"
            ],
            "text/plain": [
              "        customerID gender  SeniorCitizen  ... MonthlyCharges TotalCharges  Churn\n",
              "count         7043   7043    7043.000000  ...    7043.000000         7043   7043\n",
              "unique        7043      2            NaN  ...            NaN         6531      2\n",
              "top     2439-QKJUL   Male            NaN  ...            NaN                  No\n",
              "freq             1   3555            NaN  ...            NaN           11   5174\n",
              "mean           NaN    NaN       0.162147  ...      64.761692          NaN    NaN\n",
              "std            NaN    NaN       0.368612  ...      30.090047          NaN    NaN\n",
              "min            NaN    NaN       0.000000  ...      18.250000          NaN    NaN\n",
              "25%            NaN    NaN       0.000000  ...      35.500000          NaN    NaN\n",
              "50%            NaN    NaN       0.000000  ...      70.350000          NaN    NaN\n",
              "75%            NaN    NaN       0.000000  ...      89.850000          NaN    NaN\n",
              "max            NaN    NaN       1.000000  ...     118.750000          NaN    NaN\n",
              "\n",
              "[11 rows x 21 columns]"
            ]
          },
          "metadata": {
            "tags": []
          },
          "execution_count": 9
        }
      ]
    },
    {
      "cell_type": "code",
      "metadata": {
        "id": "l5LhZiiX684k"
      },
      "source": [
        "#A dataframe containing data for reports - of missing values, datatypes and unique values for all columns.\n",
        "summary = missingness_summary(df)\n",
        "report = pd.concat([summary.rename('nullCount'), df.dtypes.reindex(summary.index).rename('dType')], join='inner', axis=1)\n",
        "report = pd.concat([report, df.nunique().reindex(summary.index).rename('nUnique')], join='inner', axis=1)"
      ],
      "execution_count": null,
      "outputs": []
    },
    {
      "cell_type": "code",
      "metadata": {
        "id": "2cnxJzZirZBs",
        "outputId": "bd132632-ee60-4b8a-8f3b-70ab140f3054",
        "colab": {
          "base_uri": "https://localhost:8080/"
        }
      },
      "source": [
        "#Look at unique values for categorical data. \n",
        "threshold = 5\n",
        "cats = report[report['nUnique'] < threshold].index\n",
        "print(\"*********Value Count Report********\")\n",
        "print(\"Unique values less than {}\".format(threshold))\n",
        "print('*****************************************\\n')\n",
        "for cat in cats:\n",
        "  print(df[cat].value_counts())\n",
        "  print('----------------------')"
      ],
      "execution_count": null,
      "outputs": [
        {
          "output_type": "stream",
          "text": [
            "*********Value Count Report********\n",
            "Unique values less than 5\n",
            "*****************************************\n",
            "\n",
            "Electronic check             2365\n",
            "Mailed check                 1612\n",
            "Bank transfer (automatic)    1544\n",
            "Credit card (automatic)      1522\n",
            "Name: PaymentMethod, dtype: int64\n",
            "----------------------\n",
            "Yes    4171\n",
            "No     2872\n",
            "Name: PaperlessBilling, dtype: int64\n",
            "----------------------\n",
            "Month-to-month    3875\n",
            "Two year          1695\n",
            "One year          1473\n",
            "Name: Contract, dtype: int64\n",
            "----------------------\n",
            "No                     2785\n",
            "Yes                    2732\n",
            "No internet service    1526\n",
            "Name: StreamingMovies, dtype: int64\n",
            "----------------------\n",
            "No                     2810\n",
            "Yes                    2707\n",
            "No internet service    1526\n",
            "Name: StreamingTV, dtype: int64\n",
            "----------------------\n",
            "No                     3473\n",
            "Yes                    2044\n",
            "No internet service    1526\n",
            "Name: TechSupport, dtype: int64\n",
            "----------------------\n",
            "No                     3095\n",
            "Yes                    2422\n",
            "No internet service    1526\n",
            "Name: DeviceProtection, dtype: int64\n",
            "----------------------\n",
            "No                     3088\n",
            "Yes                    2429\n",
            "No internet service    1526\n",
            "Name: OnlineBackup, dtype: int64\n",
            "----------------------\n",
            "Fiber optic    3096\n",
            "DSL            2421\n",
            "No             1526\n",
            "Name: InternetService, dtype: int64\n",
            "----------------------\n",
            "No                  3390\n",
            "Yes                 2971\n",
            "No phone service     682\n",
            "Name: MultipleLines, dtype: int64\n",
            "----------------------\n",
            "Yes    6361\n",
            "No      682\n",
            "Name: PhoneService, dtype: int64\n",
            "----------------------\n",
            "No     4933\n",
            "Yes    2110\n",
            "Name: Dependents, dtype: int64\n",
            "----------------------\n",
            "No     3641\n",
            "Yes    3402\n",
            "Name: Partner, dtype: int64\n",
            "----------------------\n",
            "0    5901\n",
            "1    1142\n",
            "Name: SeniorCitizen, dtype: int64\n",
            "----------------------\n",
            "Male      3555\n",
            "Female    3488\n",
            "Name: gender, dtype: int64\n",
            "----------------------\n",
            "No                     3498\n",
            "Yes                    2019\n",
            "No internet service    1526\n",
            "Name: OnlineSecurity, dtype: int64\n",
            "----------------------\n",
            "No     5174\n",
            "Yes    1869\n",
            "Name: Churn, dtype: int64\n",
            "----------------------\n"
          ],
          "name": "stdout"
        }
      ]
    },
    {
      "cell_type": "markdown",
      "metadata": {
        "id": "hs63jr_zN8Lf"
      },
      "source": [
        "## Data Cleaning"
      ]
    },
    {
      "cell_type": "code",
      "metadata": {
        "id": "TGXhVPU-N_Nh",
        "outputId": "0e153a91-b781-4d92-9f6a-2257883a7f13",
        "colab": {
          "base_uri": "https://localhost:8080/",
          "height": 407
        }
      },
      "source": [
        "#columns to drop. \n",
        "drop_cols = ['customerID']\n",
        "\n",
        "#the cleaned dataframe. \n",
        "churn = df.drop(columns = drop_cols)\n",
        "churn.describe(include='all')"
      ],
      "execution_count": null,
      "outputs": [
        {
          "output_type": "execute_result",
          "data": {
            "text/html": [
              "<div>\n",
              "<style scoped>\n",
              "    .dataframe tbody tr th:only-of-type {\n",
              "        vertical-align: middle;\n",
              "    }\n",
              "\n",
              "    .dataframe tbody tr th {\n",
              "        vertical-align: top;\n",
              "    }\n",
              "\n",
              "    .dataframe thead th {\n",
              "        text-align: right;\n",
              "    }\n",
              "</style>\n",
              "<table border=\"1\" class=\"dataframe\">\n",
              "  <thead>\n",
              "    <tr style=\"text-align: right;\">\n",
              "      <th></th>\n",
              "      <th>gender</th>\n",
              "      <th>SeniorCitizen</th>\n",
              "      <th>Partner</th>\n",
              "      <th>Dependents</th>\n",
              "      <th>tenure</th>\n",
              "      <th>PhoneService</th>\n",
              "      <th>MultipleLines</th>\n",
              "      <th>InternetService</th>\n",
              "      <th>OnlineSecurity</th>\n",
              "      <th>OnlineBackup</th>\n",
              "      <th>DeviceProtection</th>\n",
              "      <th>TechSupport</th>\n",
              "      <th>StreamingTV</th>\n",
              "      <th>StreamingMovies</th>\n",
              "      <th>Contract</th>\n",
              "      <th>PaperlessBilling</th>\n",
              "      <th>PaymentMethod</th>\n",
              "      <th>MonthlyCharges</th>\n",
              "      <th>TotalCharges</th>\n",
              "      <th>Churn</th>\n",
              "    </tr>\n",
              "  </thead>\n",
              "  <tbody>\n",
              "    <tr>\n",
              "      <th>count</th>\n",
              "      <td>7043</td>\n",
              "      <td>7043.000000</td>\n",
              "      <td>7043</td>\n",
              "      <td>7043</td>\n",
              "      <td>7043.000000</td>\n",
              "      <td>7043</td>\n",
              "      <td>7043</td>\n",
              "      <td>7043</td>\n",
              "      <td>7043</td>\n",
              "      <td>7043</td>\n",
              "      <td>7043</td>\n",
              "      <td>7043</td>\n",
              "      <td>7043</td>\n",
              "      <td>7043</td>\n",
              "      <td>7043</td>\n",
              "      <td>7043</td>\n",
              "      <td>7043</td>\n",
              "      <td>7043.000000</td>\n",
              "      <td>7043</td>\n",
              "      <td>7043</td>\n",
              "    </tr>\n",
              "    <tr>\n",
              "      <th>unique</th>\n",
              "      <td>2</td>\n",
              "      <td>NaN</td>\n",
              "      <td>2</td>\n",
              "      <td>2</td>\n",
              "      <td>NaN</td>\n",
              "      <td>2</td>\n",
              "      <td>3</td>\n",
              "      <td>3</td>\n",
              "      <td>3</td>\n",
              "      <td>3</td>\n",
              "      <td>3</td>\n",
              "      <td>3</td>\n",
              "      <td>3</td>\n",
              "      <td>3</td>\n",
              "      <td>3</td>\n",
              "      <td>2</td>\n",
              "      <td>4</td>\n",
              "      <td>NaN</td>\n",
              "      <td>6531</td>\n",
              "      <td>2</td>\n",
              "    </tr>\n",
              "    <tr>\n",
              "      <th>top</th>\n",
              "      <td>Male</td>\n",
              "      <td>NaN</td>\n",
              "      <td>No</td>\n",
              "      <td>No</td>\n",
              "      <td>NaN</td>\n",
              "      <td>Yes</td>\n",
              "      <td>No</td>\n",
              "      <td>Fiber optic</td>\n",
              "      <td>No</td>\n",
              "      <td>No</td>\n",
              "      <td>No</td>\n",
              "      <td>No</td>\n",
              "      <td>No</td>\n",
              "      <td>No</td>\n",
              "      <td>Month-to-month</td>\n",
              "      <td>Yes</td>\n",
              "      <td>Electronic check</td>\n",
              "      <td>NaN</td>\n",
              "      <td></td>\n",
              "      <td>No</td>\n",
              "    </tr>\n",
              "    <tr>\n",
              "      <th>freq</th>\n",
              "      <td>3555</td>\n",
              "      <td>NaN</td>\n",
              "      <td>3641</td>\n",
              "      <td>4933</td>\n",
              "      <td>NaN</td>\n",
              "      <td>6361</td>\n",
              "      <td>3390</td>\n",
              "      <td>3096</td>\n",
              "      <td>3498</td>\n",
              "      <td>3088</td>\n",
              "      <td>3095</td>\n",
              "      <td>3473</td>\n",
              "      <td>2810</td>\n",
              "      <td>2785</td>\n",
              "      <td>3875</td>\n",
              "      <td>4171</td>\n",
              "      <td>2365</td>\n",
              "      <td>NaN</td>\n",
              "      <td>11</td>\n",
              "      <td>5174</td>\n",
              "    </tr>\n",
              "    <tr>\n",
              "      <th>mean</th>\n",
              "      <td>NaN</td>\n",
              "      <td>0.162147</td>\n",
              "      <td>NaN</td>\n",
              "      <td>NaN</td>\n",
              "      <td>32.371149</td>\n",
              "      <td>NaN</td>\n",
              "      <td>NaN</td>\n",
              "      <td>NaN</td>\n",
              "      <td>NaN</td>\n",
              "      <td>NaN</td>\n",
              "      <td>NaN</td>\n",
              "      <td>NaN</td>\n",
              "      <td>NaN</td>\n",
              "      <td>NaN</td>\n",
              "      <td>NaN</td>\n",
              "      <td>NaN</td>\n",
              "      <td>NaN</td>\n",
              "      <td>64.761692</td>\n",
              "      <td>NaN</td>\n",
              "      <td>NaN</td>\n",
              "    </tr>\n",
              "    <tr>\n",
              "      <th>std</th>\n",
              "      <td>NaN</td>\n",
              "      <td>0.368612</td>\n",
              "      <td>NaN</td>\n",
              "      <td>NaN</td>\n",
              "      <td>24.559481</td>\n",
              "      <td>NaN</td>\n",
              "      <td>NaN</td>\n",
              "      <td>NaN</td>\n",
              "      <td>NaN</td>\n",
              "      <td>NaN</td>\n",
              "      <td>NaN</td>\n",
              "      <td>NaN</td>\n",
              "      <td>NaN</td>\n",
              "      <td>NaN</td>\n",
              "      <td>NaN</td>\n",
              "      <td>NaN</td>\n",
              "      <td>NaN</td>\n",
              "      <td>30.090047</td>\n",
              "      <td>NaN</td>\n",
              "      <td>NaN</td>\n",
              "    </tr>\n",
              "    <tr>\n",
              "      <th>min</th>\n",
              "      <td>NaN</td>\n",
              "      <td>0.000000</td>\n",
              "      <td>NaN</td>\n",
              "      <td>NaN</td>\n",
              "      <td>0.000000</td>\n",
              "      <td>NaN</td>\n",
              "      <td>NaN</td>\n",
              "      <td>NaN</td>\n",
              "      <td>NaN</td>\n",
              "      <td>NaN</td>\n",
              "      <td>NaN</td>\n",
              "      <td>NaN</td>\n",
              "      <td>NaN</td>\n",
              "      <td>NaN</td>\n",
              "      <td>NaN</td>\n",
              "      <td>NaN</td>\n",
              "      <td>NaN</td>\n",
              "      <td>18.250000</td>\n",
              "      <td>NaN</td>\n",
              "      <td>NaN</td>\n",
              "    </tr>\n",
              "    <tr>\n",
              "      <th>25%</th>\n",
              "      <td>NaN</td>\n",
              "      <td>0.000000</td>\n",
              "      <td>NaN</td>\n",
              "      <td>NaN</td>\n",
              "      <td>9.000000</td>\n",
              "      <td>NaN</td>\n",
              "      <td>NaN</td>\n",
              "      <td>NaN</td>\n",
              "      <td>NaN</td>\n",
              "      <td>NaN</td>\n",
              "      <td>NaN</td>\n",
              "      <td>NaN</td>\n",
              "      <td>NaN</td>\n",
              "      <td>NaN</td>\n",
              "      <td>NaN</td>\n",
              "      <td>NaN</td>\n",
              "      <td>NaN</td>\n",
              "      <td>35.500000</td>\n",
              "      <td>NaN</td>\n",
              "      <td>NaN</td>\n",
              "    </tr>\n",
              "    <tr>\n",
              "      <th>50%</th>\n",
              "      <td>NaN</td>\n",
              "      <td>0.000000</td>\n",
              "      <td>NaN</td>\n",
              "      <td>NaN</td>\n",
              "      <td>29.000000</td>\n",
              "      <td>NaN</td>\n",
              "      <td>NaN</td>\n",
              "      <td>NaN</td>\n",
              "      <td>NaN</td>\n",
              "      <td>NaN</td>\n",
              "      <td>NaN</td>\n",
              "      <td>NaN</td>\n",
              "      <td>NaN</td>\n",
              "      <td>NaN</td>\n",
              "      <td>NaN</td>\n",
              "      <td>NaN</td>\n",
              "      <td>NaN</td>\n",
              "      <td>70.350000</td>\n",
              "      <td>NaN</td>\n",
              "      <td>NaN</td>\n",
              "    </tr>\n",
              "    <tr>\n",
              "      <th>75%</th>\n",
              "      <td>NaN</td>\n",
              "      <td>0.000000</td>\n",
              "      <td>NaN</td>\n",
              "      <td>NaN</td>\n",
              "      <td>55.000000</td>\n",
              "      <td>NaN</td>\n",
              "      <td>NaN</td>\n",
              "      <td>NaN</td>\n",
              "      <td>NaN</td>\n",
              "      <td>NaN</td>\n",
              "      <td>NaN</td>\n",
              "      <td>NaN</td>\n",
              "      <td>NaN</td>\n",
              "      <td>NaN</td>\n",
              "      <td>NaN</td>\n",
              "      <td>NaN</td>\n",
              "      <td>NaN</td>\n",
              "      <td>89.850000</td>\n",
              "      <td>NaN</td>\n",
              "      <td>NaN</td>\n",
              "    </tr>\n",
              "    <tr>\n",
              "      <th>max</th>\n",
              "      <td>NaN</td>\n",
              "      <td>1.000000</td>\n",
              "      <td>NaN</td>\n",
              "      <td>NaN</td>\n",
              "      <td>72.000000</td>\n",
              "      <td>NaN</td>\n",
              "      <td>NaN</td>\n",
              "      <td>NaN</td>\n",
              "      <td>NaN</td>\n",
              "      <td>NaN</td>\n",
              "      <td>NaN</td>\n",
              "      <td>NaN</td>\n",
              "      <td>NaN</td>\n",
              "      <td>NaN</td>\n",
              "      <td>NaN</td>\n",
              "      <td>NaN</td>\n",
              "      <td>NaN</td>\n",
              "      <td>118.750000</td>\n",
              "      <td>NaN</td>\n",
              "      <td>NaN</td>\n",
              "    </tr>\n",
              "  </tbody>\n",
              "</table>\n",
              "</div>"
            ],
            "text/plain": [
              "       gender  SeniorCitizen Partner  ... MonthlyCharges  TotalCharges Churn\n",
              "count    7043    7043.000000    7043  ...    7043.000000          7043  7043\n",
              "unique      2            NaN       2  ...            NaN          6531     2\n",
              "top      Male            NaN      No  ...            NaN                  No\n",
              "freq     3555            NaN    3641  ...            NaN            11  5174\n",
              "mean      NaN       0.162147     NaN  ...      64.761692           NaN   NaN\n",
              "std       NaN       0.368612     NaN  ...      30.090047           NaN   NaN\n",
              "min       NaN       0.000000     NaN  ...      18.250000           NaN   NaN\n",
              "25%       NaN       0.000000     NaN  ...      35.500000           NaN   NaN\n",
              "50%       NaN       0.000000     NaN  ...      70.350000           NaN   NaN\n",
              "75%       NaN       0.000000     NaN  ...      89.850000           NaN   NaN\n",
              "max       NaN       1.000000     NaN  ...     118.750000           NaN   NaN\n",
              "\n",
              "[11 rows x 20 columns]"
            ]
          },
          "metadata": {
            "tags": []
          },
          "execution_count": 12
        }
      ]
    },
    {
      "cell_type": "code",
      "metadata": {
        "id": "63UZn5bPuUyL",
        "outputId": "d27e6e4d-eef3-4bcb-b402-6c5a885109e4",
        "colab": {
          "base_uri": "https://localhost:8080/",
          "height": 76
        }
      },
      "source": [
        "report[report.index == 'TotalCharges']"
      ],
      "execution_count": null,
      "outputs": [
        {
          "output_type": "execute_result",
          "data": {
            "text/html": [
              "<div>\n",
              "<style scoped>\n",
              "    .dataframe tbody tr th:only-of-type {\n",
              "        vertical-align: middle;\n",
              "    }\n",
              "\n",
              "    .dataframe tbody tr th {\n",
              "        vertical-align: top;\n",
              "    }\n",
              "\n",
              "    .dataframe thead th {\n",
              "        text-align: right;\n",
              "    }\n",
              "</style>\n",
              "<table border=\"1\" class=\"dataframe\">\n",
              "  <thead>\n",
              "    <tr style=\"text-align: right;\">\n",
              "      <th></th>\n",
              "      <th>nullCount</th>\n",
              "      <th>dType</th>\n",
              "      <th>nUnique</th>\n",
              "    </tr>\n",
              "  </thead>\n",
              "  <tbody>\n",
              "    <tr>\n",
              "      <th>TotalCharges</th>\n",
              "      <td>0.0</td>\n",
              "      <td>object</td>\n",
              "      <td>6531</td>\n",
              "    </tr>\n",
              "  </tbody>\n",
              "</table>\n",
              "</div>"
            ],
            "text/plain": [
              "              nullCount   dType  nUnique\n",
              "TotalCharges        0.0  object     6531"
            ]
          },
          "metadata": {
            "tags": []
          },
          "execution_count": 13
        }
      ]
    },
    {
      "cell_type": "code",
      "metadata": {
        "id": "brwGUDncwkzD",
        "outputId": "fad438bf-0a1d-4177-c31e-1add38541280",
        "colab": {
          "base_uri": "https://localhost:8080/",
          "height": 542
        }
      },
      "source": [
        "churn[churn[\"TotalCharges\"]==' ']"
      ],
      "execution_count": null,
      "outputs": [
        {
          "output_type": "execute_result",
          "data": {
            "text/html": [
              "<div>\n",
              "<style scoped>\n",
              "    .dataframe tbody tr th:only-of-type {\n",
              "        vertical-align: middle;\n",
              "    }\n",
              "\n",
              "    .dataframe tbody tr th {\n",
              "        vertical-align: top;\n",
              "    }\n",
              "\n",
              "    .dataframe thead th {\n",
              "        text-align: right;\n",
              "    }\n",
              "</style>\n",
              "<table border=\"1\" class=\"dataframe\">\n",
              "  <thead>\n",
              "    <tr style=\"text-align: right;\">\n",
              "      <th></th>\n",
              "      <th>gender</th>\n",
              "      <th>SeniorCitizen</th>\n",
              "      <th>Partner</th>\n",
              "      <th>Dependents</th>\n",
              "      <th>tenure</th>\n",
              "      <th>PhoneService</th>\n",
              "      <th>MultipleLines</th>\n",
              "      <th>InternetService</th>\n",
              "      <th>OnlineSecurity</th>\n",
              "      <th>OnlineBackup</th>\n",
              "      <th>DeviceProtection</th>\n",
              "      <th>TechSupport</th>\n",
              "      <th>StreamingTV</th>\n",
              "      <th>StreamingMovies</th>\n",
              "      <th>Contract</th>\n",
              "      <th>PaperlessBilling</th>\n",
              "      <th>PaymentMethod</th>\n",
              "      <th>MonthlyCharges</th>\n",
              "      <th>TotalCharges</th>\n",
              "      <th>Churn</th>\n",
              "    </tr>\n",
              "  </thead>\n",
              "  <tbody>\n",
              "    <tr>\n",
              "      <th>488</th>\n",
              "      <td>Female</td>\n",
              "      <td>0</td>\n",
              "      <td>Yes</td>\n",
              "      <td>Yes</td>\n",
              "      <td>0</td>\n",
              "      <td>No</td>\n",
              "      <td>No phone service</td>\n",
              "      <td>DSL</td>\n",
              "      <td>Yes</td>\n",
              "      <td>No</td>\n",
              "      <td>Yes</td>\n",
              "      <td>Yes</td>\n",
              "      <td>Yes</td>\n",
              "      <td>No</td>\n",
              "      <td>Two year</td>\n",
              "      <td>Yes</td>\n",
              "      <td>Bank transfer (automatic)</td>\n",
              "      <td>52.55</td>\n",
              "      <td></td>\n",
              "      <td>No</td>\n",
              "    </tr>\n",
              "    <tr>\n",
              "      <th>753</th>\n",
              "      <td>Male</td>\n",
              "      <td>0</td>\n",
              "      <td>No</td>\n",
              "      <td>Yes</td>\n",
              "      <td>0</td>\n",
              "      <td>Yes</td>\n",
              "      <td>No</td>\n",
              "      <td>No</td>\n",
              "      <td>No internet service</td>\n",
              "      <td>No internet service</td>\n",
              "      <td>No internet service</td>\n",
              "      <td>No internet service</td>\n",
              "      <td>No internet service</td>\n",
              "      <td>No internet service</td>\n",
              "      <td>Two year</td>\n",
              "      <td>No</td>\n",
              "      <td>Mailed check</td>\n",
              "      <td>20.25</td>\n",
              "      <td></td>\n",
              "      <td>No</td>\n",
              "    </tr>\n",
              "    <tr>\n",
              "      <th>936</th>\n",
              "      <td>Female</td>\n",
              "      <td>0</td>\n",
              "      <td>Yes</td>\n",
              "      <td>Yes</td>\n",
              "      <td>0</td>\n",
              "      <td>Yes</td>\n",
              "      <td>No</td>\n",
              "      <td>DSL</td>\n",
              "      <td>Yes</td>\n",
              "      <td>Yes</td>\n",
              "      <td>Yes</td>\n",
              "      <td>No</td>\n",
              "      <td>Yes</td>\n",
              "      <td>Yes</td>\n",
              "      <td>Two year</td>\n",
              "      <td>No</td>\n",
              "      <td>Mailed check</td>\n",
              "      <td>80.85</td>\n",
              "      <td></td>\n",
              "      <td>No</td>\n",
              "    </tr>\n",
              "    <tr>\n",
              "      <th>1082</th>\n",
              "      <td>Male</td>\n",
              "      <td>0</td>\n",
              "      <td>Yes</td>\n",
              "      <td>Yes</td>\n",
              "      <td>0</td>\n",
              "      <td>Yes</td>\n",
              "      <td>Yes</td>\n",
              "      <td>No</td>\n",
              "      <td>No internet service</td>\n",
              "      <td>No internet service</td>\n",
              "      <td>No internet service</td>\n",
              "      <td>No internet service</td>\n",
              "      <td>No internet service</td>\n",
              "      <td>No internet service</td>\n",
              "      <td>Two year</td>\n",
              "      <td>No</td>\n",
              "      <td>Mailed check</td>\n",
              "      <td>25.75</td>\n",
              "      <td></td>\n",
              "      <td>No</td>\n",
              "    </tr>\n",
              "    <tr>\n",
              "      <th>1340</th>\n",
              "      <td>Female</td>\n",
              "      <td>0</td>\n",
              "      <td>Yes</td>\n",
              "      <td>Yes</td>\n",
              "      <td>0</td>\n",
              "      <td>No</td>\n",
              "      <td>No phone service</td>\n",
              "      <td>DSL</td>\n",
              "      <td>Yes</td>\n",
              "      <td>Yes</td>\n",
              "      <td>Yes</td>\n",
              "      <td>Yes</td>\n",
              "      <td>Yes</td>\n",
              "      <td>No</td>\n",
              "      <td>Two year</td>\n",
              "      <td>No</td>\n",
              "      <td>Credit card (automatic)</td>\n",
              "      <td>56.05</td>\n",
              "      <td></td>\n",
              "      <td>No</td>\n",
              "    </tr>\n",
              "    <tr>\n",
              "      <th>3331</th>\n",
              "      <td>Male</td>\n",
              "      <td>0</td>\n",
              "      <td>Yes</td>\n",
              "      <td>Yes</td>\n",
              "      <td>0</td>\n",
              "      <td>Yes</td>\n",
              "      <td>No</td>\n",
              "      <td>No</td>\n",
              "      <td>No internet service</td>\n",
              "      <td>No internet service</td>\n",
              "      <td>No internet service</td>\n",
              "      <td>No internet service</td>\n",
              "      <td>No internet service</td>\n",
              "      <td>No internet service</td>\n",
              "      <td>Two year</td>\n",
              "      <td>No</td>\n",
              "      <td>Mailed check</td>\n",
              "      <td>19.85</td>\n",
              "      <td></td>\n",
              "      <td>No</td>\n",
              "    </tr>\n",
              "    <tr>\n",
              "      <th>3826</th>\n",
              "      <td>Male</td>\n",
              "      <td>0</td>\n",
              "      <td>Yes</td>\n",
              "      <td>Yes</td>\n",
              "      <td>0</td>\n",
              "      <td>Yes</td>\n",
              "      <td>Yes</td>\n",
              "      <td>No</td>\n",
              "      <td>No internet service</td>\n",
              "      <td>No internet service</td>\n",
              "      <td>No internet service</td>\n",
              "      <td>No internet service</td>\n",
              "      <td>No internet service</td>\n",
              "      <td>No internet service</td>\n",
              "      <td>Two year</td>\n",
              "      <td>No</td>\n",
              "      <td>Mailed check</td>\n",
              "      <td>25.35</td>\n",
              "      <td></td>\n",
              "      <td>No</td>\n",
              "    </tr>\n",
              "    <tr>\n",
              "      <th>4380</th>\n",
              "      <td>Female</td>\n",
              "      <td>0</td>\n",
              "      <td>Yes</td>\n",
              "      <td>Yes</td>\n",
              "      <td>0</td>\n",
              "      <td>Yes</td>\n",
              "      <td>No</td>\n",
              "      <td>No</td>\n",
              "      <td>No internet service</td>\n",
              "      <td>No internet service</td>\n",
              "      <td>No internet service</td>\n",
              "      <td>No internet service</td>\n",
              "      <td>No internet service</td>\n",
              "      <td>No internet service</td>\n",
              "      <td>Two year</td>\n",
              "      <td>No</td>\n",
              "      <td>Mailed check</td>\n",
              "      <td>20.00</td>\n",
              "      <td></td>\n",
              "      <td>No</td>\n",
              "    </tr>\n",
              "    <tr>\n",
              "      <th>5218</th>\n",
              "      <td>Male</td>\n",
              "      <td>0</td>\n",
              "      <td>Yes</td>\n",
              "      <td>Yes</td>\n",
              "      <td>0</td>\n",
              "      <td>Yes</td>\n",
              "      <td>No</td>\n",
              "      <td>No</td>\n",
              "      <td>No internet service</td>\n",
              "      <td>No internet service</td>\n",
              "      <td>No internet service</td>\n",
              "      <td>No internet service</td>\n",
              "      <td>No internet service</td>\n",
              "      <td>No internet service</td>\n",
              "      <td>One year</td>\n",
              "      <td>Yes</td>\n",
              "      <td>Mailed check</td>\n",
              "      <td>19.70</td>\n",
              "      <td></td>\n",
              "      <td>No</td>\n",
              "    </tr>\n",
              "    <tr>\n",
              "      <th>6670</th>\n",
              "      <td>Female</td>\n",
              "      <td>0</td>\n",
              "      <td>Yes</td>\n",
              "      <td>Yes</td>\n",
              "      <td>0</td>\n",
              "      <td>Yes</td>\n",
              "      <td>Yes</td>\n",
              "      <td>DSL</td>\n",
              "      <td>No</td>\n",
              "      <td>Yes</td>\n",
              "      <td>Yes</td>\n",
              "      <td>Yes</td>\n",
              "      <td>Yes</td>\n",
              "      <td>No</td>\n",
              "      <td>Two year</td>\n",
              "      <td>No</td>\n",
              "      <td>Mailed check</td>\n",
              "      <td>73.35</td>\n",
              "      <td></td>\n",
              "      <td>No</td>\n",
              "    </tr>\n",
              "    <tr>\n",
              "      <th>6754</th>\n",
              "      <td>Male</td>\n",
              "      <td>0</td>\n",
              "      <td>No</td>\n",
              "      <td>Yes</td>\n",
              "      <td>0</td>\n",
              "      <td>Yes</td>\n",
              "      <td>Yes</td>\n",
              "      <td>DSL</td>\n",
              "      <td>Yes</td>\n",
              "      <td>Yes</td>\n",
              "      <td>No</td>\n",
              "      <td>Yes</td>\n",
              "      <td>No</td>\n",
              "      <td>No</td>\n",
              "      <td>Two year</td>\n",
              "      <td>Yes</td>\n",
              "      <td>Bank transfer (automatic)</td>\n",
              "      <td>61.90</td>\n",
              "      <td></td>\n",
              "      <td>No</td>\n",
              "    </tr>\n",
              "  </tbody>\n",
              "</table>\n",
              "</div>"
            ],
            "text/plain": [
              "      gender  SeniorCitizen Partner  ... MonthlyCharges  TotalCharges Churn\n",
              "488   Female              0     Yes  ...          52.55                  No\n",
              "753     Male              0      No  ...          20.25                  No\n",
              "936   Female              0     Yes  ...          80.85                  No\n",
              "1082    Male              0     Yes  ...          25.75                  No\n",
              "1340  Female              0     Yes  ...          56.05                  No\n",
              "3331    Male              0     Yes  ...          19.85                  No\n",
              "3826    Male              0     Yes  ...          25.35                  No\n",
              "4380  Female              0     Yes  ...          20.00                  No\n",
              "5218    Male              0     Yes  ...          19.70                  No\n",
              "6670  Female              0     Yes  ...          73.35                  No\n",
              "6754    Male              0      No  ...          61.90                  No\n",
              "\n",
              "[11 rows x 20 columns]"
            ]
          },
          "metadata": {
            "tags": []
          },
          "execution_count": 14
        }
      ]
    },
    {
      "cell_type": "markdown",
      "metadata": {
        "id": "7wgtwyjrr_C_"
      },
      "source": [
        "There's non-numeric data in the total charges field."
      ]
    },
    {
      "cell_type": "code",
      "metadata": {
        "id": "f4bp-M4VbIc0"
      },
      "source": [
        "#Assign to a seperate variable.  \n",
        "holdout = churn[churn['TotalCharges'] == ' ']\n",
        "\n",
        "#convert to numeric\n",
        "churn['TotalCharges'] = pd.to_numeric(churn['TotalCharges'], errors='coerce')\n",
        "#drop the nulls.\n",
        "churn = churn.dropna()\n"
      ],
      "execution_count": null,
      "outputs": []
    },
    {
      "cell_type": "markdown",
      "metadata": {
        "id": "ErlIrYp1cJfZ"
      },
      "source": [
        "Churn, is exhibiting an interesting behavior pattern. \n",
        "\n",
        "It will not allow a direct conditional comparison - using the string. Set the condition on the key value."
      ]
    },
    {
      "cell_type": "code",
      "metadata": {
        "id": "F3WbbA11urAn"
      },
      "source": [
        "#set the value that I will be assigning to zero to the first value in the key array. \n",
        "key = df['Churn'].value_counts().keys()[0]"
      ],
      "execution_count": null,
      "outputs": []
    },
    {
      "cell_type": "code",
      "metadata": {
        "id": "elSFJRuuuK7j",
        "outputId": "13e16501-0d77-4773-a6d1-bc75a97bb2e3",
        "colab": {
          "base_uri": "https://localhost:8080/"
        }
      },
      "source": [
        "#assign churn the key values instead of the string values. \n",
        "churn['Churn'] = np.where(churn['Churn'] == key, 0, 1)\n",
        "churn['Churn'].describe()"
      ],
      "execution_count": null,
      "outputs": [
        {
          "output_type": "execute_result",
          "data": {
            "text/plain": [
              "count    7032.000000\n",
              "mean        0.265785\n",
              "std         0.441782\n",
              "min         0.000000\n",
              "25%         0.000000\n",
              "50%         0.000000\n",
              "75%         1.000000\n",
              "max         1.000000\n",
              "Name: Churn, dtype: float64"
            ]
          },
          "metadata": {
            "tags": []
          },
          "execution_count": 17
        }
      ]
    },
    {
      "cell_type": "code",
      "metadata": {
        "id": "TD84ftYNx2Fd",
        "outputId": "4739ebc1-8381-4d7a-85ae-d13874be024b",
        "colab": {
          "base_uri": "https://localhost:8080/",
          "height": 268
        }
      },
      "source": [
        "#Size of the test set and target variable to split the data.\n",
        "target = 'Churn'\n",
        "SIZE = 0.2\n",
        "\n",
        "#Assign the target and feature variables. \n",
        "y = churn[target]\n",
        "X = churn.drop(columns=[target])\n",
        "\n",
        "#Convert categorical to numerical.\n",
        "X = pd.get_dummies(X, drop_first=True)\n",
        "\n",
        "#check for balance.\n",
        "balance = X.mean()\n",
        "balance = balance[balance.values < 1]\n",
        "\n",
        "plt.style.use(['dark_background'])\n",
        "balance.hist()\n",
        "plt.show()"
      ],
      "execution_count": null,
      "outputs": [
        {
          "output_type": "display_data",
          "data": {
            "image/png": "[encoded data removed]",
            "text/plain": [
              "<Figure size 432x288 with 1 Axes>"
            ]
          },
          "metadata": {
            "tags": []
          }
        }
      ]
    },
    {
      "cell_type": "code",
      "metadata": {
        "id": "i1JVsHJJms9N",
        "outputId": "95630d93-7326-4d44-95b1-470800ad7fc7",
        "colab": {
          "base_uri": "https://localhost:8080/"
        }
      },
      "source": [
        "balance.sort_values()"
      ],
      "execution_count": null,
      "outputs": [
        {
          "output_type": "execute_result",
          "data": {
            "text/plain": [
              "MultipleLines_No phone service           0.096701\n",
              "SeniorCitizen                            0.162400\n",
              "Contract_One year                        0.209329\n",
              "StreamingMovies_No internet service      0.216155\n",
              "StreamingTV_No internet service          0.216155\n",
              "TechSupport_No internet service          0.216155\n",
              "OnlineBackup_No internet service         0.216155\n",
              "OnlineSecurity_No internet service       0.216155\n",
              "DeviceProtection_No internet service     0.216155\n",
              "InternetService_No                       0.216155\n",
              "PaymentMethod_Credit card (automatic)    0.216297\n",
              "PaymentMethod_Mailed check               0.228100\n",
              "Contract_Two year                        0.239619\n",
              "OnlineSecurity_Yes                       0.286547\n",
              "TechSupport_Yes                          0.290102\n",
              "Dependents_Yes                           0.298493\n",
              "PaymentMethod_Electronic check           0.336320\n",
              "DeviceProtection_Yes                     0.343857\n",
              "OnlineBackup_Yes                         0.344852\n",
              "StreamingTV_Yes                          0.384386\n",
              "StreamingMovies_Yes                      0.388367\n",
              "MultipleLines_Yes                        0.421928\n",
              "InternetService_Fiber optic              0.440273\n",
              "Partner_Yes                              0.482509\n",
              "gender_Male                              0.504693\n",
              "PaperlessBilling_Yes                     0.592719\n",
              "PhoneService_Yes                         0.903299\n",
              "dtype: float64"
            ]
          },
          "metadata": {
            "tags": []
          },
          "execution_count": 19
        }
      ]
    },
    {
      "cell_type": "markdown",
      "metadata": {
        "id": "8ECXw-gvdUfv"
      },
      "source": [
        "There aren't enough senior citizens in this dataset. "
      ]
    },
    {
      "cell_type": "code",
      "metadata": {
        "id": "VbmJdCtJuvVw",
        "outputId": "e23823ec-c8f4-458d-fa42-c1f33f073fd6",
        "colab": {
          "base_uri": "https://localhost:8080/"
        }
      },
      "source": [
        "X['SeniorCitizen'].value_counts()"
      ],
      "execution_count": null,
      "outputs": [
        {
          "output_type": "execute_result",
          "data": {
            "text/plain": [
              "0    5890\n",
              "1    1142\n",
              "Name: SeniorCitizen, dtype: int64"
            ]
          },
          "metadata": {
            "tags": []
          },
          "execution_count": 20
        }
      ]
    },
    {
      "cell_type": "code",
      "metadata": {
        "id": "Qlvlf9dCR5Al",
        "outputId": "a063ce5b-e11e-440c-b64a-ee31b6962839",
        "colab": {
          "base_uri": "https://localhost:8080/"
        }
      },
      "source": [
        "#Split the data.\n",
        "X_train, X_test, y_train, y_test = train_test_split(X, y, test_size=SIZE)\n",
        "print('There are {:d} training samples and {:d} test samples'.format(X_train.shape[0], X_test.shape[0]))"
      ],
      "execution_count": null,
      "outputs": [
        {
          "output_type": "stream",
          "text": [
            "There are 5625 training samples and 1407 test samples\n"
          ],
          "name": "stdout"
        }
      ]
    },
    {
      "cell_type": "markdown",
      "metadata": {
        "id": "RHgLLUbpyuCo"
      },
      "source": [
        "## Feature Engineering"
      ]
    },
    {
      "cell_type": "markdown",
      "metadata": {
        "id": "c7H5INpmvkXv"
      },
      "source": [
        "There aren't enough senior citizens to contribute to the feature selection. \n",
        "Oversample the data by 1000 using sklearn's [resample](https://scikit-learn.org/stable/modules/generated/sklearn.utils.resample.html). "
      ]
    },
    {
      "cell_type": "code",
      "metadata": {
        "id": "N4HJhWjUw7hV",
        "outputId": "68dd371b-08fd-4a4e-fc5f-2620ac236f07",
        "colab": {
          "base_uri": "https://localhost:8080/"
        }
      },
      "source": [
        "#Assign my feature variables from my original dataset. \n",
        "fs = churn[churn['SeniorCitizen'] == 1]\n",
        "fs = resample(fs, random_state=42, replace=True, n_samples=6000)\n",
        "\n",
        "fs.SeniorCitizen.value_counts()"
      ],
      "execution_count": null,
      "outputs": [
        {
          "output_type": "execute_result",
          "data": {
            "text/plain": [
              "1    6000\n",
              "Name: SeniorCitizen, dtype: int64"
            ]
          },
          "metadata": {
            "tags": []
          },
          "execution_count": 22
        }
      ]
    },
    {
      "cell_type": "code",
      "metadata": {
        "id": "tKa9vA_x82yc",
        "outputId": "c9c52d29-44c4-4166-ee72-9dc6ab69d94e",
        "colab": {
          "base_uri": "https://localhost:8080/"
        }
      },
      "source": [
        "#expand the feature selection dataset to include all other customers.\n",
        "fs = pd.concat([churn, fs])\n",
        "fs.SeniorCitizen.value_counts()"
      ],
      "execution_count": null,
      "outputs": [
        {
          "output_type": "execute_result",
          "data": {
            "text/plain": [
              "1    7142\n",
              "0    5890\n",
              "Name: SeniorCitizen, dtype: int64"
            ]
          },
          "metadata": {
            "tags": []
          },
          "execution_count": 23
        }
      ]
    },
    {
      "cell_type": "markdown",
      "metadata": {
        "id": "JePSm4pMgbjb"
      },
      "source": [
        "With a resampled dataset conduct feature analysis.\n",
        "Start with a comparison analysis on the monthly charges and the total charges."
      ]
    },
    {
      "cell_type": "code",
      "metadata": {
        "id": "51VjYXylGwur",
        "outputId": "b63463c0-49b0-4848-ab91-56d87f919532",
        "colab": {
          "base_uri": "https://localhost:8080/",
          "height": 513
        }
      },
      "source": [
        "plt.style.use(['dark_background'])\n",
        "sns.jointplot(x=fs['MonthlyCharges'], y=fs['TotalCharges'], kind='reg', color=mycolor, line_kws={'color': 'blue'}, height=7, )\n",
        "plt.show()"
      ],
      "execution_count": null,
      "outputs": [
        {
          "output_type": "display_data",
          "data": {
            "image/png": "[encoded data removed]",
            "text/plain": [
              "<Figure size 504x504 with 3 Axes>"
            ]
          },
          "metadata": {
            "tags": []
          }
        }
      ]
    },
    {
      "cell_type": "markdown",
      "metadata": {
        "id": "DJLBvU4gTakT"
      },
      "source": [
        "There appears to be a linear relationship between monthly charges and total charges. This relationship can help with identifying which features to select for churn prediction. \n",
        "\n",
        "Using MonthlyCharges as the target variable, predict which features are most closely related to churn. "
      ]
    },
    {
      "cell_type": "code",
      "metadata": {
        "id": "ETWk_HCkiTQv",
        "outputId": "c49b6a28-1b3a-4007-cb05-94a4e553f9e4",
        "colab": {
          "base_uri": "https://localhost:8080/"
        }
      },
      "source": [
        "#Construct the PCA component against monthly charges.\n",
        "fsy = fs['MonthlyCharges']\n",
        "#drop the target columns (senior citizen and tenure define the target (people we don't want churning))\n",
        "fsX = fs.drop(columns=[target, 'SeniorCitizen', 'tenure', 'TotalCharges', 'MonthlyCharges'])\n",
        "\n",
        "#Convert categorical to numerical.\n",
        "fsX = pd.get_dummies(fsX, drop_first=True)\n",
        "\n",
        "#Split the data.\n",
        "fsX_train, fsX_test, fsy_train, fsy_test = train_test_split(fsX, fsy, test_size=SIZE)\n",
        "print('There are {:d} training samples and {:d} test samples'.format(fsX_train.shape[0], fsX_test.shape[0]))\n",
        "print('There are {} columns'.format(len(fsX_train.columns)))"
      ],
      "execution_count": null,
      "outputs": [
        {
          "output_type": "stream",
          "text": [
            "There are 10425 training samples and 2607 test samples\n",
            "There are 26 columns\n"
          ],
          "name": "stdout"
        }
      ]
    },
    {
      "cell_type": "markdown",
      "metadata": {
        "id": "SYDmJH7ulMLE"
      },
      "source": [
        "Reduce the dimensionality by selecting the columns that are best for predicting monthly charges. "
      ]
    },
    {
      "cell_type": "code",
      "metadata": {
        "id": "2U-cecWTlLql",
        "outputId": "e3c30a17-be35-401c-b892-900b16ca5cde",
        "colab": {
          "base_uri": "https://localhost:8080/"
        }
      },
      "source": [
        "skb = SelectKBest(k=22)\n",
        "skb.fit_transform(fsX_train, fsy_train)\n",
        "skb.transform(fsX_test)\n",
        "mask = skb.get_support()\n",
        "#Assign the columns to a variable to perform the component analysis. \n",
        "pca_columns = fsX_train.columns[mask].values\n",
        "pca_columns"
      ],
      "execution_count": null,
      "outputs": [
        {
          "output_type": "execute_result",
          "data": {
            "text/plain": [
              "array(['PhoneService_Yes', 'MultipleLines_No phone service',\n",
              "       'MultipleLines_Yes', 'InternetService_Fiber optic',\n",
              "       'InternetService_No', 'OnlineSecurity_No internet service',\n",
              "       'OnlineSecurity_Yes', 'OnlineBackup_No internet service',\n",
              "       'OnlineBackup_Yes', 'DeviceProtection_No internet service',\n",
              "       'DeviceProtection_Yes', 'TechSupport_No internet service',\n",
              "       'TechSupport_Yes', 'StreamingTV_No internet service',\n",
              "       'StreamingTV_Yes', 'StreamingMovies_No internet service',\n",
              "       'StreamingMovies_Yes', 'Contract_One year', 'Contract_Two year',\n",
              "       'PaperlessBilling_Yes', 'PaymentMethod_Electronic check',\n",
              "       'PaymentMethod_Mailed check'], dtype=object)"
            ]
          },
          "metadata": {
            "tags": []
          },
          "execution_count": 26
        }
      ]
    },
    {
      "cell_type": "markdown",
      "metadata": {
        "id": "68xgh-uSKEVW"
      },
      "source": [
        "Create the principle component that best represents the monthly charges and assign the feature and target variables that will be used to predict churn. "
      ]
    },
    {
      "cell_type": "code",
      "metadata": {
        "id": "KKrYu5WTLdJM"
      },
      "source": [
        "#PCA Component\n",
        "pca = X[pca_columns]\n",
        "comp = PCA(n_components=2)\n",
        "\n",
        "pca = pd.DataFrame(data = comp.fit_transform(pca), columns = ['related_charges1', 'Related_charges2'])"
      ],
      "execution_count": null,
      "outputs": []
    },
    {
      "cell_type": "code",
      "metadata": {
        "id": "1QFVkpbyN5m3"
      },
      "source": [
        "#set X equal to my first cleaned data frame (start over)\n",
        "X = pd.concat([churn, pca], axis=1, join='inner')\n",
        "\n",
        "#set X and y. \n",
        "y = churn[target]\n",
        "X = churn.drop(columns=[target])\n",
        "\n",
        "#Convert categorical to numerical.\n",
        "X = pd.get_dummies(X, drop_first=True)\n",
        "\n",
        "#Remove pca_columns. They're now components. \n",
        "X = X.drop(columns=pca_columns)\n",
        "#Set the features. \n",
        "X = X.drop(columns=['SeniorCitizen', 'tenure', 'TotalCharges']) "
      ],
      "execution_count": null,
      "outputs": []
    },
    {
      "cell_type": "code",
      "metadata": {
        "id": "qyoXSD57RNkX",
        "outputId": "9f9b748a-cf56-4ad2-f6df-cdbe5ff330a4",
        "colab": {
          "base_uri": "https://localhost:8080/"
        }
      },
      "source": [
        "#split the data.\n",
        "X_train, X_test, y_train, y_test = train_test_split(X, y, test_size=SIZE)\n",
        "print('There are {:d} training samples and {:d} test samples'.format(X_train.shape[0], X_test.shape[0]))"
      ],
      "execution_count": null,
      "outputs": [
        {
          "output_type": "stream",
          "text": [
            "There are 5625 training samples and 1407 test samples\n"
          ],
          "name": "stdout"
        }
      ]
    },
    {
      "cell_type": "markdown",
      "metadata": {
        "id": "T3btOvGJszNh"
      },
      "source": [
        "#Modeling "
      ]
    },
    {
      "cell_type": "code",
      "metadata": {
        "id": "rHnBIhN9EK8W"
      },
      "source": [
        "#Some constant variables for parameter settings. \n",
        "#cross validation, constant parameter\n",
        "cv = 5\n",
        "\n",
        "#multiclass\n",
        "mc = ['auto', 'ovr', 'multinomial']\n",
        "#solver\n",
        "sv = ['newton-cg', 'lbfgs', 'liblinear', 'sag', 'saga']\n",
        "#penalty\n",
        "py = ['l1', 'l2', 'elasticnet', 'none']\n",
        "#criterion\n",
        "cn = ['gini', 'entropy']\n",
        "#max_features\n",
        "mf = ['auto', 'sqrt', 'log2']\n",
        "#splitter\n",
        "sr = ['best', 'random']\n",
        "#max_depth\n",
        "md = [5, 7, 15, 29] \n",
        "\n",
        "#target names for classification reports. \n",
        "target_names = [df['Churn'].value_counts().keys()[0] + ' Churn', df['Churn'].value_counts().keys()[1] + ' Churn']"
      ],
      "execution_count": null,
      "outputs": []
    },
    {
      "cell_type": "markdown",
      "metadata": {
        "id": "D_BJAXcN8ogk"
      },
      "source": [
        "The base guideline for this dataset is to get a prediction model that provides a score that is greater than 68% accurate. \n",
        "\n",
        "Run a prediction on a dummy classifier to ensure that the features were engineered correctly. "
      ]
    },
    {
      "cell_type": "code",
      "metadata": {
        "id": "_1BQ8RiF_7YW",
        "outputId": "b6e6d42b-4564-4347-8caf-9a41c01b7799",
        "colab": {
          "base_uri": "https://localhost:8080/"
        }
      },
      "source": [
        "#Dummy Classifier, set to most_frequent for my unbalanced dataset.\n",
        "dc = DummyClassifier()\n",
        "#Get the best parameter for the dummy model.\n",
        "strategy = ['stratified', 'most_frequent', 'prior', 'uniform', 'constant']\n",
        "\n",
        "dummies = { \"strategy\": strategy }\n",
        "dum = GridSearchCV(dc, dummies)\n",
        "dum.fit(X_train,y_train)\n",
        "print(dum.best_params_, dum.best_score_)"
      ],
      "execution_count": null,
      "outputs": [
        {
          "output_type": "stream",
          "text": [
            "{'strategy': 'most_frequent'} 0.7390222222222221\n"
          ],
          "name": "stdout"
        }
      ]
    },
    {
      "cell_type": "markdown",
      "metadata": {
        "id": "NSzP0wV4TAx_"
      },
      "source": [
        "Compare the training score against the hold out data. It did not overfit the data. "
      ]
    },
    {
      "cell_type": "code",
      "metadata": {
        "id": "BISQ0_3i8PpT",
        "outputId": "7d53c020-d948-476f-ae35-1d2d8f170052",
        "colab": {
          "base_uri": "https://localhost:8080/"
        }
      },
      "source": [
        "  #Fit and score. The goal is to beat this thing.\n",
        "  traindummy = dum.score(X_train, y_train)\n",
        "  testdummy = dum.score(X_test, y_test)\n",
        "  print(\"Dummy Classifier \\n Training Score: {:.2f} \\n Test Score: {:.2f}\".format(traindummy, testdummy))"
      ],
      "execution_count": null,
      "outputs": [
        {
          "output_type": "stream",
          "text": [
            "Dummy Classifier \n",
            " Training Score: 0.74 \n",
            " Test Score: 0.71\n"
          ],
          "name": "stdout"
        }
      ]
    },
    {
      "cell_type": "code",
      "metadata": {
        "id": "UjgdLzUDTb9b",
        "outputId": "86a90d67-b883-4e20-cec4-1294b59450ca",
        "colab": {
          "base_uri": "https://localhost:8080/",
          "height": 666
        }
      },
      "source": [
        "#Predictions on the holdout\n",
        "dumP = dum.predict(X_test)\n",
        "#Confusion Matrix.\n",
        "plot_cm(confusion_matrix(y_test, dumP),['No Churn','Yes Churn'],False)"
      ],
      "execution_count": null,
      "outputs": [
        {
          "output_type": "display_data",
          "data": {
            "image/png": "[encoded data removed]",
            "text/plain": [
              "<Figure size 1008x792 with 2 Axes>"
            ]
          },
          "metadata": {
            "tags": []
          }
        }
      ]
    },
    {
      "cell_type": "code",
      "metadata": {
        "id": "-SCyxl5KTZDa",
        "outputId": "f4efa8ad-f3f2-4f40-99de-142aa01ab0e2",
        "colab": {
          "base_uri": "https://localhost:8080/"
        }
      },
      "source": [
        "print(classification_report(y_test, dumP, target_names=target_names))"
      ],
      "execution_count": null,
      "outputs": [
        {
          "output_type": "stream",
          "text": [
            "              precision    recall  f1-score   support\n",
            "\n",
            "    No Churn       0.71      1.00      0.83      1006\n",
            "   Yes Churn       0.00      0.00      0.00       401\n",
            "\n",
            "    accuracy                           0.71      1407\n",
            "   macro avg       0.36      0.50      0.42      1407\n",
            "weighted avg       0.51      0.71      0.60      1407\n",
            "\n"
          ],
          "name": "stdout"
        }
      ]
    },
    {
      "cell_type": "markdown",
      "metadata": {
        "id": "TEDBMZNb2SRd"
      },
      "source": [
        "The model predicts less churn when the services that it selects are combined into two components.  \n",
        "\n",
        "This suggests that bundling some services and offering them at a lower late could reduce churn. "
      ]
    },
    {
      "cell_type": "code",
      "metadata": {
        "id": "MMa0sZ5lhVMD",
        "outputId": "edbbb8b4-df8c-4cfc-ed38-85b9f40d6295",
        "colab": {
          "base_uri": "https://localhost:8080/",
          "height": 194
        }
      },
      "source": [
        "#Remove some columns from the frame. \n",
        "disinterested = ['params',\t'split0_test_score',\t'split1_test_score',\t'split2_test_score',\t'split3_test_score',\t'split4_test_score']\n",
        "\n",
        "#dataframe the process time and the scores.\n",
        "dumResults = pd.DataFrame(dum.cv_results_)\n",
        "dumResults = dumResults.drop(columns=disinterested)\n",
        "dumResults.head()"
      ],
      "execution_count": null,
      "outputs": [
        {
          "output_type": "execute_result",
          "data": {
            "text/html": [
              "<div>\n",
              "<style scoped>\n",
              "    .dataframe tbody tr th:only-of-type {\n",
              "        vertical-align: middle;\n",
              "    }\n",
              "\n",
              "    .dataframe tbody tr th {\n",
              "        vertical-align: top;\n",
              "    }\n",
              "\n",
              "    .dataframe thead th {\n",
              "        text-align: right;\n",
              "    }\n",
              "</style>\n",
              "<table border=\"1\" class=\"dataframe\">\n",
              "  <thead>\n",
              "    <tr style=\"text-align: right;\">\n",
              "      <th></th>\n",
              "      <th>mean_fit_time</th>\n",
              "      <th>std_fit_time</th>\n",
              "      <th>mean_score_time</th>\n",
              "      <th>std_score_time</th>\n",
              "      <th>param_strategy</th>\n",
              "      <th>mean_test_score</th>\n",
              "      <th>std_test_score</th>\n",
              "      <th>rank_test_score</th>\n",
              "    </tr>\n",
              "  </thead>\n",
              "  <tbody>\n",
              "    <tr>\n",
              "      <th>0</th>\n",
              "      <td>0.001354</td>\n",
              "      <td>0.000200</td>\n",
              "      <td>0.000678</td>\n",
              "      <td>0.000184</td>\n",
              "      <td>stratified</td>\n",
              "      <td>0.611022</td>\n",
              "      <td>0.006350</td>\n",
              "      <td>3</td>\n",
              "    </tr>\n",
              "    <tr>\n",
              "      <th>1</th>\n",
              "      <td>0.001147</td>\n",
              "      <td>0.000016</td>\n",
              "      <td>0.000407</td>\n",
              "      <td>0.000029</td>\n",
              "      <td>most_frequent</td>\n",
              "      <td>0.739022</td>\n",
              "      <td>0.000435</td>\n",
              "      <td>1</td>\n",
              "    </tr>\n",
              "    <tr>\n",
              "      <th>2</th>\n",
              "      <td>0.001673</td>\n",
              "      <td>0.000112</td>\n",
              "      <td>0.000797</td>\n",
              "      <td>0.000297</td>\n",
              "      <td>prior</td>\n",
              "      <td>0.739022</td>\n",
              "      <td>0.000435</td>\n",
              "      <td>1</td>\n",
              "    </tr>\n",
              "    <tr>\n",
              "      <th>3</th>\n",
              "      <td>0.001214</td>\n",
              "      <td>0.000070</td>\n",
              "      <td>0.000491</td>\n",
              "      <td>0.000013</td>\n",
              "      <td>uniform</td>\n",
              "      <td>0.499022</td>\n",
              "      <td>0.015474</td>\n",
              "      <td>4</td>\n",
              "    </tr>\n",
              "    <tr>\n",
              "      <th>4</th>\n",
              "      <td>0.000927</td>\n",
              "      <td>0.000017</td>\n",
              "      <td>0.000000</td>\n",
              "      <td>0.000000</td>\n",
              "      <td>constant</td>\n",
              "      <td>NaN</td>\n",
              "      <td>NaN</td>\n",
              "      <td>5</td>\n",
              "    </tr>\n",
              "  </tbody>\n",
              "</table>\n",
              "</div>"
            ],
            "text/plain": [
              "   mean_fit_time  std_fit_time  ...  std_test_score  rank_test_score\n",
              "0       0.001354      0.000200  ...        0.006350                3\n",
              "1       0.001147      0.000016  ...        0.000435                1\n",
              "2       0.001673      0.000112  ...        0.000435                1\n",
              "3       0.001214      0.000070  ...        0.015474                4\n",
              "4       0.000927      0.000017  ...             NaN                5\n",
              "\n",
              "[5 rows x 8 columns]"
            ]
          },
          "metadata": {
            "tags": []
          },
          "execution_count": 35
        }
      ]
    },
    {
      "cell_type": "markdown",
      "metadata": {
        "id": "oFQv7RLtF9ky"
      },
      "source": [
        "###Logistic Regression"
      ]
    },
    {
      "cell_type": "code",
      "metadata": {
        "id": "GXu-Zkzfsxn_",
        "outputId": "b2c3387a-e022-4fa9-e9fc-fcd76be9dcaf",
        "colab": {
          "base_uri": "https://localhost:8080/",
          "height": 71
        }
      },
      "source": [
        "#Logistic Regression\n",
        "lrc = LogisticRegression()\n",
        "#parameters\n",
        "lrcPara = { \"multi_class\": mc, \n",
        "           \"solver\": sv,\n",
        "            'penalty' : py       \n",
        "          }\n",
        "lrcGs = GridSearchCV(lrc, lrcPara, cv=cv)\n",
        "\n",
        "lrcGs.fit(X_train, y_train)\n",
        "\n",
        "print(\"Parameters: {} \\n Score: {:.2f}\".format(lrcGs.best_params_, lrcGs.best_score_))\n",
        "dummyCompetition(lrcGs.best_score_)"
      ],
      "execution_count": null,
      "outputs": [
        {
          "output_type": "stream",
          "text": [
            "Parameters: {'multi_class': 'auto', 'penalty': 'l1', 'solver': 'saga'} \n",
            " Score: 0.73\n"
          ],
          "name": "stdout"
        },
        {
          "output_type": "execute_result",
          "data": {
            "application/vnd.google.colaboratory.intrinsic+json": {
              "type": "string"
            },
            "text/plain": [
              "'You Won!'"
            ]
          },
          "metadata": {
            "tags": []
          },
          "execution_count": 36
        }
      ]
    },
    {
      "cell_type": "markdown",
      "metadata": {
        "id": "TSCBqWYnKw9F"
      },
      "source": [
        "The results dataframe stores record(s) with the minimum mean fit time score, the minimum mean score time and the best estimator. "
      ]
    },
    {
      "cell_type": "code",
      "metadata": {
        "id": "WcGyvJh4etku",
        "outputId": "83329d64-ed0d-457f-9247-adcb00179a8f",
        "colab": {
          "base_uri": "https://localhost:8080/",
          "height": 135
        }
      },
      "source": [
        "#Set up the results table\n",
        "results = getBest('lrc', lrcGs.cv_results_, lrcGs.best_index_)\n",
        "results"
      ],
      "execution_count": null,
      "outputs": [
        {
          "output_type": "execute_result",
          "data": {
            "text/html": [
              "<div>\n",
              "<style scoped>\n",
              "    .dataframe tbody tr th:only-of-type {\n",
              "        vertical-align: middle;\n",
              "    }\n",
              "\n",
              "    .dataframe tbody tr th {\n",
              "        vertical-align: top;\n",
              "    }\n",
              "\n",
              "    .dataframe thead th {\n",
              "        text-align: right;\n",
              "    }\n",
              "</style>\n",
              "<table border=\"1\" class=\"dataframe\">\n",
              "  <thead>\n",
              "    <tr style=\"text-align: right;\">\n",
              "      <th></th>\n",
              "      <th>mean_fit_time</th>\n",
              "      <th>std_fit_time</th>\n",
              "      <th>mean_score_time</th>\n",
              "      <th>std_score_time</th>\n",
              "      <th>param_multi_class</th>\n",
              "      <th>param_penalty</th>\n",
              "      <th>param_solver</th>\n",
              "      <th>mean_test_score</th>\n",
              "      <th>std_test_score</th>\n",
              "      <th>rank_test_score</th>\n",
              "      <th>model</th>\n",
              "    </tr>\n",
              "  </thead>\n",
              "  <tbody>\n",
              "    <tr>\n",
              "      <th>22</th>\n",
              "      <td>0.014473</td>\n",
              "      <td>0.001257</td>\n",
              "      <td>0.001581</td>\n",
              "      <td>0.000129</td>\n",
              "      <td>ovr</td>\n",
              "      <td>l1</td>\n",
              "      <td>liblinear</td>\n",
              "      <td>0.726222</td>\n",
              "      <td>0.002696</td>\n",
              "      <td>26</td>\n",
              "      <td>lrc</td>\n",
              "    </tr>\n",
              "    <tr>\n",
              "      <th>46</th>\n",
              "      <td>0.064901</td>\n",
              "      <td>0.005959</td>\n",
              "      <td>0.001370</td>\n",
              "      <td>0.000014</td>\n",
              "      <td>multinomial</td>\n",
              "      <td>l2</td>\n",
              "      <td>lbfgs</td>\n",
              "      <td>0.726222</td>\n",
              "      <td>0.002975</td>\n",
              "      <td>21</td>\n",
              "      <td>lrc</td>\n",
              "    </tr>\n",
              "    <tr>\n",
              "      <th>4</th>\n",
              "      <td>0.079995</td>\n",
              "      <td>0.002584</td>\n",
              "      <td>0.001505</td>\n",
              "      <td>0.000101</td>\n",
              "      <td>auto</td>\n",
              "      <td>l1</td>\n",
              "      <td>saga</td>\n",
              "      <td>0.730667</td>\n",
              "      <td>0.003813</td>\n",
              "      <td>1</td>\n",
              "      <td>lrc</td>\n",
              "    </tr>\n",
              "  </tbody>\n",
              "</table>\n",
              "</div>"
            ],
            "text/plain": [
              "    mean_fit_time  std_fit_time  ...  rank_test_score  model\n",
              "22       0.014473      0.001257  ...               26    lrc\n",
              "46       0.064901      0.005959  ...               21    lrc\n",
              "4        0.079995      0.002584  ...                1    lrc\n",
              "\n",
              "[3 rows x 11 columns]"
            ]
          },
          "metadata": {
            "tags": []
          },
          "execution_count": 37
        }
      ]
    },
    {
      "cell_type": "code",
      "metadata": {
        "id": "XV6DCDQgFoH_",
        "outputId": "c6f1cd07-60bb-4965-f68c-73c34d1be6d0",
        "colab": {
          "base_uri": "https://localhost:8080/",
          "height": 665
        }
      },
      "source": [
        "#Prediction on the holdout model. \n",
        "lrcP = lrcGs.predict(X_test)\n",
        "plot_cm(confusion_matrix(y_test, lrcP),['No Churn','Yes Churn'],False)"
      ],
      "execution_count": null,
      "outputs": [
        {
          "output_type": "display_data",
          "data": {
            "image/png": "[encoded data removed]",
            "text/plain": [
              "<Figure size 1008x792 with 2 Axes>"
            ]
          },
          "metadata": {
            "tags": []
          }
        }
      ]
    },
    {
      "cell_type": "code",
      "metadata": {
        "id": "GFGRN0T4Gssp",
        "outputId": "fedacb02-7745-41b0-e221-bfd8762ef44b",
        "colab": {
          "base_uri": "https://localhost:8080/"
        }
      },
      "source": [
        "#Classification report \n",
        "print(classification_report(y_test, lrcP, target_names=target_names))"
      ],
      "execution_count": null,
      "outputs": [
        {
          "output_type": "stream",
          "text": [
            "              precision    recall  f1-score   support\n",
            "\n",
            "    No Churn       0.72      0.98      0.83      1006\n",
            "   Yes Churn       0.46      0.04      0.08       401\n",
            "\n",
            "    accuracy                           0.71      1407\n",
            "   macro avg       0.59      0.51      0.45      1407\n",
            "weighted avg       0.65      0.71      0.62      1407\n",
            "\n"
          ],
          "name": "stdout"
        }
      ]
    },
    {
      "cell_type": "markdown",
      "metadata": {
        "id": "nvKovRJHN3mS"
      },
      "source": [
        "## Decision Tree"
      ]
    },
    {
      "cell_type": "code",
      "metadata": {
        "id": "ga67SLo5mWeb",
        "outputId": "36dd4d06-d623-4e3f-8c87-b5af1cc2ac19",
        "colab": {
          "base_uri": "https://localhost:8080/",
          "height": 71
        }
      },
      "source": [
        "#Logistic Regression\n",
        "dt = DecisionTreeClassifier()\n",
        "#parameters\n",
        "dtPara = {'criterion': cn,\n",
        "           'max_features': mf,\n",
        "           'splitter':sr, \n",
        "           'max_depth': md     \n",
        "          }\n",
        "dtGs = GridSearchCV(dt, dtPara, cv=cv)\n",
        "\n",
        "dtGs.fit(X_train, y_train)\n",
        "\n",
        "print(\"Parameters: {} \\n Score: {:.2f}\".format(dtGs.best_params_, dtGs.best_score_))\n",
        "dummyCompetition(dtGs.best_score_)"
      ],
      "execution_count": null,
      "outputs": [
        {
          "output_type": "stream",
          "text": [
            "Parameters: {'criterion': 'entropy', 'max_depth': 5, 'max_features': 'log2', 'splitter': 'best'} \n",
            " Score: 0.74\n"
          ],
          "name": "stdout"
        },
        {
          "output_type": "execute_result",
          "data": {
            "application/vnd.google.colaboratory.intrinsic+json": {
              "type": "string"
            },
            "text/plain": [
              "'You Won!'"
            ]
          },
          "metadata": {
            "tags": []
          },
          "execution_count": 40
        }
      ]
    },
    {
      "cell_type": "code",
      "metadata": {
        "id": "PeyQtNG1H_61",
        "outputId": "41e3d14a-4df3-471b-b5db-748a146d991e",
        "colab": {
          "base_uri": "https://localhost:8080/",
          "height": 135
        }
      },
      "source": [
        "#Update the results table\n",
        "results = results.append(getBest('dt', dtGs.cv_results_, dtGs.best_index_))\n",
        "#look at the results\n",
        "results[results['model'] == 'dt'].dropna(axis=1)"
      ],
      "execution_count": null,
      "outputs": [
        {
          "output_type": "execute_result",
          "data": {
            "text/html": [
              "<div>\n",
              "<style scoped>\n",
              "    .dataframe tbody tr th:only-of-type {\n",
              "        vertical-align: middle;\n",
              "    }\n",
              "\n",
              "    .dataframe tbody tr th {\n",
              "        vertical-align: top;\n",
              "    }\n",
              "\n",
              "    .dataframe thead th {\n",
              "        text-align: right;\n",
              "    }\n",
              "</style>\n",
              "<table border=\"1\" class=\"dataframe\">\n",
              "  <thead>\n",
              "    <tr style=\"text-align: right;\">\n",
              "      <th></th>\n",
              "      <th>mean_fit_time</th>\n",
              "      <th>std_fit_time</th>\n",
              "      <th>mean_score_time</th>\n",
              "      <th>std_score_time</th>\n",
              "      <th>mean_test_score</th>\n",
              "      <th>std_test_score</th>\n",
              "      <th>rank_test_score</th>\n",
              "      <th>model</th>\n",
              "      <th>param_criterion</th>\n",
              "      <th>param_max_depth</th>\n",
              "      <th>param_max_features</th>\n",
              "      <th>param_splitter</th>\n",
              "    </tr>\n",
              "  </thead>\n",
              "  <tbody>\n",
              "    <tr>\n",
              "      <th>25</th>\n",
              "      <td>0.002668</td>\n",
              "      <td>0.000063</td>\n",
              "      <td>0.001147</td>\n",
              "      <td>0.000028</td>\n",
              "      <td>0.738489</td>\n",
              "      <td>0.002345</td>\n",
              "      <td>6</td>\n",
              "      <td>dt</td>\n",
              "      <td>entropy</td>\n",
              "      <td>5</td>\n",
              "      <td>auto</td>\n",
              "      <td>random</td>\n",
              "    </tr>\n",
              "    <tr>\n",
              "      <th>27</th>\n",
              "      <td>0.002710</td>\n",
              "      <td>0.000130</td>\n",
              "      <td>0.001136</td>\n",
              "      <td>0.000031</td>\n",
              "      <td>0.738844</td>\n",
              "      <td>0.002943</td>\n",
              "      <td>4</td>\n",
              "      <td>dt</td>\n",
              "      <td>entropy</td>\n",
              "      <td>5</td>\n",
              "      <td>sqrt</td>\n",
              "      <td>random</td>\n",
              "    </tr>\n",
              "    <tr>\n",
              "      <th>28</th>\n",
              "      <td>0.004257</td>\n",
              "      <td>0.000460</td>\n",
              "      <td>0.001206</td>\n",
              "      <td>0.000048</td>\n",
              "      <td>0.739378</td>\n",
              "      <td>0.011417</td>\n",
              "      <td>1</td>\n",
              "      <td>dt</td>\n",
              "      <td>entropy</td>\n",
              "      <td>5</td>\n",
              "      <td>log2</td>\n",
              "      <td>best</td>\n",
              "    </tr>\n",
              "  </tbody>\n",
              "</table>\n",
              "</div>"
            ],
            "text/plain": [
              "    mean_fit_time  std_fit_time  ...  param_max_features  param_splitter\n",
              "25       0.002668      0.000063  ...                auto          random\n",
              "27       0.002710      0.000130  ...                sqrt          random\n",
              "28       0.004257      0.000460  ...                log2            best\n",
              "\n",
              "[3 rows x 12 columns]"
            ]
          },
          "metadata": {
            "tags": []
          },
          "execution_count": 41
        }
      ]
    },
    {
      "cell_type": "code",
      "metadata": {
        "id": "gkNpNL88Lfas",
        "outputId": "ad64a283-f558-45a5-c12f-42bd949fb172",
        "colab": {
          "base_uri": "https://localhost:8080/",
          "height": 666
        }
      },
      "source": [
        "#Predictions on the holdout\n",
        "dtP = dtGs.predict(X_test)\n",
        "plot_cm(confusion_matrix(y_test, dtP),['No Churn','Yes Churn'],False)"
      ],
      "execution_count": null,
      "outputs": [
        {
          "output_type": "display_data",
          "data": {
            "image/png": "[encoded data removed]",
            "text/plain": [
              "<Figure size 1008x792 with 2 Axes>"
            ]
          },
          "metadata": {
            "tags": []
          }
        }
      ]
    },
    {
      "cell_type": "code",
      "metadata": {
        "id": "XA946lZXMatH",
        "outputId": "7962e09e-fd83-477b-cdce-214537a1592e",
        "colab": {
          "base_uri": "https://localhost:8080/"
        }
      },
      "source": [
        "print(classification_report(y_test, dtP, target_names=target_names))"
      ],
      "execution_count": null,
      "outputs": [
        {
          "output_type": "stream",
          "text": [
            "              precision    recall  f1-score   support\n",
            "\n",
            "    No Churn       0.71      1.00      0.83      1006\n",
            "   Yes Churn       0.00      0.00      0.00       401\n",
            "\n",
            "    accuracy                           0.71      1407\n",
            "   macro avg       0.36      0.50      0.42      1407\n",
            "weighted avg       0.51      0.71      0.60      1407\n",
            "\n"
          ],
          "name": "stdout"
        }
      ]
    },
    {
      "cell_type": "markdown",
      "metadata": {
        "id": "wDEhnT7rNrrS"
      },
      "source": [
        "## K Nearest Neighbors"
      ]
    },
    {
      "cell_type": "code",
      "metadata": {
        "id": "Fb_A9iqZNyvY",
        "outputId": "3facd3b2-b21e-4072-c013-3256edd778d1",
        "colab": {
          "base_uri": "https://localhost:8080/",
          "height": 71
        }
      },
      "source": [
        "#K nearest neighbors\n",
        "knn = KNeighborsClassifier()\n",
        "\n",
        "#parameters\n",
        "knnPara = {'n_neighbors': [3, 9, 39, 12],\n",
        "           'weights': ['uniform', 'distance'],\n",
        "           'algorithm': ['auto', 'ball_tree', 'kd_tree', 'brute'], \n",
        "           'leaf_size': [30, 12, 9, 3, 17],  \n",
        "           'metric': ['mahalanobis','euclidean', 'manhattan', 'chebyshev', 'minkowski', 'seuclidean']   \n",
        "          }\n",
        "\n",
        "knnGs = GridSearchCV(knn, knnPara, cv=cv)\n",
        "\n",
        "knnGs.fit(X_train, y_train)\n",
        "\n",
        "print(\"Parameters: {} \\n Score: {:.2f}\".format(knnGs.best_params_, knnGs.best_score_))\n",
        "dummyCompetition(knnGs.best_score_)"
      ],
      "execution_count": null,
      "outputs": [
        {
          "output_type": "stream",
          "text": [
            "Parameters: {'algorithm': 'brute', 'leaf_size': 30, 'metric': 'mahalanobis', 'n_neighbors': 39, 'weights': 'uniform'} \n",
            " Score: 0.74\n"
          ],
          "name": "stdout"
        },
        {
          "output_type": "execute_result",
          "data": {
            "application/vnd.google.colaboratory.intrinsic+json": {
              "type": "string"
            },
            "text/plain": [
              "'You Won!'"
            ]
          },
          "metadata": {
            "tags": []
          },
          "execution_count": 44
        }
      ]
    },
    {
      "cell_type": "code",
      "metadata": {
        "id": "iiQA2OY5Q4iD",
        "outputId": "9a31f5c1-5aca-4ae0-c029-a0d62defc510",
        "colab": {
          "base_uri": "https://localhost:8080/",
          "height": 135
        }
      },
      "source": [
        "#Update the results table\n",
        "results = results.append(getBest('knn', knnGs.cv_results_, knnGs.best_index_))\n",
        "#look at the results\n",
        "results[results['model'] == 'knn'].dropna(axis=1)"
      ],
      "execution_count": null,
      "outputs": [
        {
          "output_type": "execute_result",
          "data": {
            "text/html": [
              "<div>\n",
              "<style scoped>\n",
              "    .dataframe tbody tr th:only-of-type {\n",
              "        vertical-align: middle;\n",
              "    }\n",
              "\n",
              "    .dataframe tbody tr th {\n",
              "        vertical-align: top;\n",
              "    }\n",
              "\n",
              "    .dataframe thead th {\n",
              "        text-align: right;\n",
              "    }\n",
              "</style>\n",
              "<table border=\"1\" class=\"dataframe\">\n",
              "  <thead>\n",
              "    <tr style=\"text-align: right;\">\n",
              "      <th></th>\n",
              "      <th>mean_fit_time</th>\n",
              "      <th>std_fit_time</th>\n",
              "      <th>mean_score_time</th>\n",
              "      <th>std_score_time</th>\n",
              "      <th>mean_test_score</th>\n",
              "      <th>std_test_score</th>\n",
              "      <th>rank_test_score</th>\n",
              "      <th>model</th>\n",
              "      <th>param_algorithm</th>\n",
              "      <th>param_leaf_size</th>\n",
              "      <th>param_metric</th>\n",
              "      <th>param_n_neighbors</th>\n",
              "      <th>param_weights</th>\n",
              "    </tr>\n",
              "  </thead>\n",
              "  <tbody>\n",
              "    <tr>\n",
              "      <th>25</th>\n",
              "      <td>0.005280</td>\n",
              "      <td>0.000069</td>\n",
              "      <td>0.004813</td>\n",
              "      <td>0.000085</td>\n",
              "      <td>0.684267</td>\n",
              "      <td>0.004882</td>\n",
              "      <td>691</td>\n",
              "      <td>knn</td>\n",
              "      <td>auto</td>\n",
              "      <td>30</td>\n",
              "      <td>chebyshev</td>\n",
              "      <td>3</td>\n",
              "      <td>distance</td>\n",
              "    </tr>\n",
              "    <tr>\n",
              "      <th>901</th>\n",
              "      <td>0.002282</td>\n",
              "      <td>0.000027</td>\n",
              "      <td>0.131587</td>\n",
              "      <td>0.002450</td>\n",
              "      <td>0.718578</td>\n",
              "      <td>0.004656</td>\n",
              "      <td>279</td>\n",
              "      <td>knn</td>\n",
              "      <td>brute</td>\n",
              "      <td>3</td>\n",
              "      <td>minkowski</td>\n",
              "      <td>39</td>\n",
              "      <td>distance</td>\n",
              "    </tr>\n",
              "    <tr>\n",
              "      <th>724</th>\n",
              "      <td>0.002366</td>\n",
              "      <td>0.000029</td>\n",
              "      <td>0.308445</td>\n",
              "      <td>0.003590</td>\n",
              "      <td>0.738844</td>\n",
              "      <td>0.006825</td>\n",
              "      <td>1</td>\n",
              "      <td>knn</td>\n",
              "      <td>brute</td>\n",
              "      <td>30</td>\n",
              "      <td>mahalanobis</td>\n",
              "      <td>39</td>\n",
              "      <td>uniform</td>\n",
              "    </tr>\n",
              "  </tbody>\n",
              "</table>\n",
              "</div>"
            ],
            "text/plain": [
              "     mean_fit_time  std_fit_time  ...  param_n_neighbors  param_weights\n",
              "25        0.005280      0.000069  ...                  3       distance\n",
              "901       0.002282      0.000027  ...                 39       distance\n",
              "724       0.002366      0.000029  ...                 39        uniform\n",
              "\n",
              "[3 rows x 13 columns]"
            ]
          },
          "metadata": {
            "tags": []
          },
          "execution_count": 45
        }
      ]
    },
    {
      "cell_type": "code",
      "metadata": {
        "id": "OLYAfIOmSN58",
        "outputId": "e5e79158-3bfc-46b4-da3f-128e05986447",
        "colab": {
          "base_uri": "https://localhost:8080/",
          "height": 665
        }
      },
      "source": [
        "#Predictions on the holdout\n",
        "knnP = knnGs.predict(X_test)\n",
        "plot_cm(confusion_matrix(y_test, knnP),['No Churn','Yes Churn'],False)"
      ],
      "execution_count": null,
      "outputs": [
        {
          "output_type": "display_data",
          "data": {
            "image/png": "[encoded data removed]",
            "text/plain": [
              "<Figure size 1008x792 with 2 Axes>"
            ]
          },
          "metadata": {
            "tags": []
          }
        }
      ]
    },
    {
      "cell_type": "code",
      "metadata": {
        "id": "QezWfw03TMHA",
        "outputId": "9b3573bb-4c7d-4d8c-d102-7f4570acb17d",
        "colab": {
          "base_uri": "https://localhost:8080/"
        }
      },
      "source": [
        "print(classification_report(y_test, knnP, target_names=target_names))"
      ],
      "execution_count": null,
      "outputs": [
        {
          "output_type": "stream",
          "text": [
            "              precision    recall  f1-score   support\n",
            "\n",
            "    No Churn       0.75      0.94      0.83      1006\n",
            "   Yes Churn       0.58      0.21      0.31       401\n",
            "\n",
            "    accuracy                           0.73      1407\n",
            "   macro avg       0.67      0.58      0.57      1407\n",
            "weighted avg       0.70      0.73      0.68      1407\n",
            "\n"
          ],
          "name": "stdout"
        }
      ]
    },
    {
      "cell_type": "markdown",
      "metadata": {
        "id": "dpz0mM6uST2R"
      },
      "source": [
        "## Support Vector Classifier\n"
      ]
    },
    {
      "cell_type": "code",
      "metadata": {
        "id": "q59JF-w7TzTz",
        "outputId": "fd20a47c-e34e-4e7f-a455-896a6b709d67",
        "colab": {
          "base_uri": "https://localhost:8080/",
          "height": 71
        }
      },
      "source": [
        "#support vector machine\n",
        "svc = SVC()\n",
        "\n",
        "#parameters\n",
        "svcPara = {\n",
        "          'kernel': ['linear', 'rbf'],\n",
        "          'break_ties': [True, False] \n",
        "          }\n",
        "\n",
        "svcGs = GridSearchCV(svc, svcPara, cv=cv)\n",
        "\n",
        "svcGs.fit(X_train, y_train)\n",
        "\n",
        "print(\"Parameters: {} \\n Score: {:.2f}\".format(svcGs.best_params_, svcGs.best_score_))\n",
        "dummyCompetition(svcGs.best_score_)"
      ],
      "execution_count": null,
      "outputs": [
        {
          "output_type": "stream",
          "text": [
            "Parameters: {'break_ties': True, 'kernel': 'linear'} \n",
            " Score: 0.74\n"
          ],
          "name": "stdout"
        },
        {
          "output_type": "execute_result",
          "data": {
            "application/vnd.google.colaboratory.intrinsic+json": {
              "type": "string"
            },
            "text/plain": [
              "'You Won!'"
            ]
          },
          "metadata": {
            "tags": []
          },
          "execution_count": 48
        }
      ]
    },
    {
      "cell_type": "code",
      "metadata": {
        "id": "DwokaXdVVOdZ",
        "outputId": "572f6afc-3e75-4aa5-faeb-45ca240919c9",
        "colab": {
          "base_uri": "https://localhost:8080/",
          "height": 135
        }
      },
      "source": [
        "#Update the results table\n",
        "results = results.append(getBest('svc', svcGs.cv_results_, svcGs.best_index_))\n",
        "#look at the results\n",
        "results[results['model'] == 'svc'].dropna(axis=1)"
      ],
      "execution_count": null,
      "outputs": [
        {
          "output_type": "execute_result",
          "data": {
            "text/html": [
              "<div>\n",
              "<style scoped>\n",
              "    .dataframe tbody tr th:only-of-type {\n",
              "        vertical-align: middle;\n",
              "    }\n",
              "\n",
              "    .dataframe tbody tr th {\n",
              "        vertical-align: top;\n",
              "    }\n",
              "\n",
              "    .dataframe thead th {\n",
              "        text-align: right;\n",
              "    }\n",
              "</style>\n",
              "<table border=\"1\" class=\"dataframe\">\n",
              "  <thead>\n",
              "    <tr style=\"text-align: right;\">\n",
              "      <th></th>\n",
              "      <th>mean_fit_time</th>\n",
              "      <th>std_fit_time</th>\n",
              "      <th>mean_score_time</th>\n",
              "      <th>std_score_time</th>\n",
              "      <th>mean_test_score</th>\n",
              "      <th>std_test_score</th>\n",
              "      <th>rank_test_score</th>\n",
              "      <th>model</th>\n",
              "      <th>param_break_ties</th>\n",
              "      <th>param_kernel</th>\n",
              "    </tr>\n",
              "  </thead>\n",
              "  <tbody>\n",
              "    <tr>\n",
              "      <th>2</th>\n",
              "      <td>71.247735</td>\n",
              "      <td>5.434761</td>\n",
              "      <td>0.025924</td>\n",
              "      <td>0.000464</td>\n",
              "      <td>0.739022</td>\n",
              "      <td>0.000435</td>\n",
              "      <td>1</td>\n",
              "      <td>svc</td>\n",
              "      <td>False</td>\n",
              "      <td>linear</td>\n",
              "    </tr>\n",
              "    <tr>\n",
              "      <th>3</th>\n",
              "      <td>0.409441</td>\n",
              "      <td>0.009363</td>\n",
              "      <td>0.076695</td>\n",
              "      <td>0.000971</td>\n",
              "      <td>0.739022</td>\n",
              "      <td>0.000435</td>\n",
              "      <td>1</td>\n",
              "      <td>svc</td>\n",
              "      <td>False</td>\n",
              "      <td>rbf</td>\n",
              "    </tr>\n",
              "    <tr>\n",
              "      <th>0</th>\n",
              "      <td>71.104027</td>\n",
              "      <td>5.353479</td>\n",
              "      <td>0.026321</td>\n",
              "      <td>0.001492</td>\n",
              "      <td>0.739022</td>\n",
              "      <td>0.000435</td>\n",
              "      <td>1</td>\n",
              "      <td>svc</td>\n",
              "      <td>True</td>\n",
              "      <td>linear</td>\n",
              "    </tr>\n",
              "  </tbody>\n",
              "</table>\n",
              "</div>"
            ],
            "text/plain": [
              "   mean_fit_time  std_fit_time  ...  param_break_ties  param_kernel\n",
              "2      71.247735      5.434761  ...             False        linear\n",
              "3       0.409441      0.009363  ...             False           rbf\n",
              "0      71.104027      5.353479  ...              True        linear\n",
              "\n",
              "[3 rows x 10 columns]"
            ]
          },
          "metadata": {
            "tags": []
          },
          "execution_count": 49
        }
      ]
    },
    {
      "cell_type": "code",
      "metadata": {
        "id": "CUWp_8FtVYyS",
        "outputId": "eb31a91e-1d0b-430d-e513-cbdebbfec9f5",
        "colab": {
          "base_uri": "https://localhost:8080/",
          "height": 666
        }
      },
      "source": [
        "#Predictions on the holdout\n",
        "svcP = svcGs.predict(X_test)\n",
        "plot_cm(confusion_matrix(y_test, svcP),['No Churn','Yes Churn'],False)"
      ],
      "execution_count": null,
      "outputs": [
        {
          "output_type": "display_data",
          "data": {
            "image/png": "[encoded data removed]",
            "text/plain": [
              "<Figure size 1008x792 with 2 Axes>"
            ]
          },
          "metadata": {
            "tags": []
          }
        }
      ]
    },
    {
      "cell_type": "code",
      "metadata": {
        "id": "mzFCREwmVjZe",
        "outputId": "cba8e66f-7b37-49ec-8c82-7ce18cee54b2",
        "colab": {
          "base_uri": "https://localhost:8080/"
        }
      },
      "source": [
        "print(classification_report(y_test, svcP, target_names=target_names))"
      ],
      "execution_count": null,
      "outputs": [
        {
          "output_type": "stream",
          "text": [
            "              precision    recall  f1-score   support\n",
            "\n",
            "    No Churn       0.71      1.00      0.83      1006\n",
            "   Yes Churn       0.00      0.00      0.00       401\n",
            "\n",
            "    accuracy                           0.71      1407\n",
            "   macro avg       0.36      0.50      0.42      1407\n",
            "weighted avg       0.51      0.71      0.60      1407\n",
            "\n"
          ],
          "name": "stdout"
        }
      ]
    },
    {
      "cell_type": "markdown",
      "metadata": {
        "id": "lsuElR3k67U6"
      },
      "source": [
        "## Random Forest Classifier "
      ]
    },
    {
      "cell_type": "code",
      "metadata": {
        "id": "tsce0Y097L25",
        "outputId": "8885671d-0479-4a9f-a827-fe6be11e0850",
        "colab": {
          "base_uri": "https://localhost:8080/",
          "height": 71
        }
      },
      "source": [
        "#Random Forest Classifier\n",
        "rfc = RandomForestClassifier()\n",
        "\n",
        "\n",
        "#parameters \n",
        "rfcPara = {'criterion': cn,\n",
        "           'max_features': mf,\n",
        "           'oob_score':[True, False], \n",
        "           'max_depth': md     \n",
        "          }\n",
        "\n",
        "rfcGs = GridSearchCV(rfc, rfcPara, cv=cv)\n",
        "\n",
        "rfcGs.fit(X_train, y_train)\n",
        "\n",
        "print(\"Parameters: {} \\n Score: {:.2f}\".format(rfcGs.best_params_, rfcGs.best_score_))\n",
        "dummyCompetition(rfcGs.best_score_)"
      ],
      "execution_count": null,
      "outputs": [
        {
          "output_type": "stream",
          "text": [
            "Parameters: {'criterion': 'entropy', 'max_depth': 5, 'max_features': 'auto', 'oob_score': False} \n",
            " Score: 0.74\n"
          ],
          "name": "stdout"
        },
        {
          "output_type": "execute_result",
          "data": {
            "application/vnd.google.colaboratory.intrinsic+json": {
              "type": "string"
            },
            "text/plain": [
              "'You Won!'"
            ]
          },
          "metadata": {
            "tags": []
          },
          "execution_count": 52
        }
      ]
    },
    {
      "cell_type": "code",
      "metadata": {
        "id": "QukX8Nz58bOl",
        "outputId": "4c1f168c-a87a-40c3-e5b8-9320572352c4",
        "colab": {
          "base_uri": "https://localhost:8080/",
          "height": 135
        }
      },
      "source": [
        "#Update the results table\n",
        "results = results.append(getBest('rfc', rfcGs.cv_results_, rfcGs.best_index_))\n",
        "#look at the results\n",
        "results[results['model'] == 'rfc'].dropna(axis=1)"
      ],
      "execution_count": null,
      "outputs": [
        {
          "output_type": "execute_result",
          "data": {
            "text/html": [
              "<div>\n",
              "<style scoped>\n",
              "    .dataframe tbody tr th:only-of-type {\n",
              "        vertical-align: middle;\n",
              "    }\n",
              "\n",
              "    .dataframe tbody tr th {\n",
              "        vertical-align: top;\n",
              "    }\n",
              "\n",
              "    .dataframe thead th {\n",
              "        text-align: right;\n",
              "    }\n",
              "</style>\n",
              "<table border=\"1\" class=\"dataframe\">\n",
              "  <thead>\n",
              "    <tr style=\"text-align: right;\">\n",
              "      <th></th>\n",
              "      <th>mean_fit_time</th>\n",
              "      <th>std_fit_time</th>\n",
              "      <th>mean_score_time</th>\n",
              "      <th>std_score_time</th>\n",
              "      <th>mean_test_score</th>\n",
              "      <th>std_test_score</th>\n",
              "      <th>rank_test_score</th>\n",
              "      <th>model</th>\n",
              "      <th>param_criterion</th>\n",
              "      <th>param_max_depth</th>\n",
              "      <th>param_max_features</th>\n",
              "      <th>param_oob_score</th>\n",
              "    </tr>\n",
              "  </thead>\n",
              "  <tbody>\n",
              "    <tr>\n",
              "      <th>3</th>\n",
              "      <td>0.261928</td>\n",
              "      <td>0.003985</td>\n",
              "      <td>0.017593</td>\n",
              "      <td>0.000242</td>\n",
              "      <td>0.736889</td>\n",
              "      <td>0.004015</td>\n",
              "      <td>20</td>\n",
              "      <td>rfc</td>\n",
              "      <td>gini</td>\n",
              "      <td>5</td>\n",
              "      <td>sqrt</td>\n",
              "      <td>False</td>\n",
              "    </tr>\n",
              "    <tr>\n",
              "      <th>24</th>\n",
              "      <td>0.383172</td>\n",
              "      <td>0.005111</td>\n",
              "      <td>0.017512</td>\n",
              "      <td>0.000224</td>\n",
              "      <td>0.738489</td>\n",
              "      <td>0.000871</td>\n",
              "      <td>5</td>\n",
              "      <td>rfc</td>\n",
              "      <td>entropy</td>\n",
              "      <td>5</td>\n",
              "      <td>auto</td>\n",
              "      <td>True</td>\n",
              "    </tr>\n",
              "    <tr>\n",
              "      <th>25</th>\n",
              "      <td>0.314788</td>\n",
              "      <td>0.006788</td>\n",
              "      <td>0.017939</td>\n",
              "      <td>0.000638</td>\n",
              "      <td>0.739022</td>\n",
              "      <td>0.000435</td>\n",
              "      <td>1</td>\n",
              "      <td>rfc</td>\n",
              "      <td>entropy</td>\n",
              "      <td>5</td>\n",
              "      <td>auto</td>\n",
              "      <td>False</td>\n",
              "    </tr>\n",
              "  </tbody>\n",
              "</table>\n",
              "</div>"
            ],
            "text/plain": [
              "    mean_fit_time  std_fit_time  ...  param_max_features  param_oob_score\n",
              "3        0.261928      0.003985  ...                sqrt            False\n",
              "24       0.383172      0.005111  ...                auto             True\n",
              "25       0.314788      0.006788  ...                auto            False\n",
              "\n",
              "[3 rows x 12 columns]"
            ]
          },
          "metadata": {
            "tags": []
          },
          "execution_count": 53
        }
      ]
    },
    {
      "cell_type": "code",
      "metadata": {
        "id": "EugT6X_z8qIE",
        "outputId": "33d2d1b9-5217-46e4-e1dc-e18ef6101a6e",
        "colab": {
          "base_uri": "https://localhost:8080/",
          "height": 666
        }
      },
      "source": [
        "#Predictions on the holdout\n",
        "rfcP = rfcGs.predict(X_test)\n",
        "plot_cm(confusion_matrix(y_test, rfcP),['No Churn','Yes Churn'],False)"
      ],
      "execution_count": null,
      "outputs": [
        {
          "output_type": "display_data",
          "data": {
            "image/png": "[encoded data removed]",
            "text/plain": [
              "<Figure size 1008x792 with 2 Axes>"
            ]
          },
          "metadata": {
            "tags": []
          }
        }
      ]
    },
    {
      "cell_type": "code",
      "metadata": {
        "id": "zSIiBtUL8qIN",
        "outputId": "414b6774-fbc6-4b74-d1ce-57dd8003a706",
        "colab": {
          "base_uri": "https://localhost:8080/"
        }
      },
      "source": [
        "print(classification_report(y_test, rfcP, target_names=target_names))"
      ],
      "execution_count": null,
      "outputs": [
        {
          "output_type": "stream",
          "text": [
            "              precision    recall  f1-score   support\n",
            "\n",
            "    No Churn       0.71      1.00      0.83      1006\n",
            "   Yes Churn       0.00      0.00      0.00       401\n",
            "\n",
            "    accuracy                           0.71      1407\n",
            "   macro avg       0.36      0.50      0.42      1407\n",
            "weighted avg       0.51      0.71      0.60      1407\n",
            "\n"
          ],
          "name": "stdout"
        }
      ]
    },
    {
      "cell_type": "markdown",
      "metadata": {
        "id": "TVm0H5fm7Ite"
      },
      "source": [
        "## Gradient Boosting Classifier\n"
      ]
    },
    {
      "cell_type": "code",
      "metadata": {
        "id": "66o3iLqV7MWQ",
        "outputId": "5fcda6bf-e26b-48ba-a6f8-a3b88728aacc",
        "colab": {
          "base_uri": "https://localhost:8080/",
          "height": 71
        }
      },
      "source": [
        "#Gradient Boosting Classifier\n",
        "gbc = GradientBoostingClassifier()\n",
        "\n",
        "#parameters \n",
        "gbcPara = {'criterion': ['friedman_mse', 'mse', 'mae'],\n",
        "           'max_features': mf,\n",
        "           'max_depth': md     \n",
        "          }\n",
        "\n",
        "gbcGs = GridSearchCV(gbc, gbcPara, cv=cv)\n",
        "\n",
        "gbcGs.fit(X_train, y_train)\n",
        "\n",
        "print(\"Parameters: {} \\n Score: {:.2f}\".format(gbcGs.best_params_, gbcGs.best_score_))\n",
        "dummyCompetition(gbcGs.best_score_)"
      ],
      "execution_count": null,
      "outputs": [
        {
          "output_type": "stream",
          "text": [
            "Parameters: {'criterion': 'mae', 'max_depth': 5, 'max_features': 'log2'} \n",
            " Score: 0.74\n"
          ],
          "name": "stdout"
        },
        {
          "output_type": "execute_result",
          "data": {
            "application/vnd.google.colaboratory.intrinsic+json": {
              "type": "string"
            },
            "text/plain": [
              "'You Won!'"
            ]
          },
          "metadata": {
            "tags": []
          },
          "execution_count": 56
        }
      ]
    },
    {
      "cell_type": "code",
      "metadata": {
        "id": "MnZxgE2Z9KVn",
        "outputId": "ecfa3aae-d0eb-43ed-a149-8ce3e71cc3e6",
        "colab": {
          "base_uri": "https://localhost:8080/",
          "height": 135
        }
      },
      "source": [
        "#Update the results table\n",
        "results = results.append(getBest('gbc', gbcGs.cv_results_, gbcGs.best_index_))\n",
        "#look at the results\n",
        "results[results['model'] == 'gbc'].dropna(axis=1)"
      ],
      "execution_count": null,
      "outputs": [
        {
          "output_type": "execute_result",
          "data": {
            "text/html": [
              "<div>\n",
              "<style scoped>\n",
              "    .dataframe tbody tr th:only-of-type {\n",
              "        vertical-align: middle;\n",
              "    }\n",
              "\n",
              "    .dataframe tbody tr th {\n",
              "        vertical-align: top;\n",
              "    }\n",
              "\n",
              "    .dataframe thead th {\n",
              "        text-align: right;\n",
              "    }\n",
              "</style>\n",
              "<table border=\"1\" class=\"dataframe\">\n",
              "  <thead>\n",
              "    <tr style=\"text-align: right;\">\n",
              "      <th></th>\n",
              "      <th>mean_fit_time</th>\n",
              "      <th>std_fit_time</th>\n",
              "      <th>mean_score_time</th>\n",
              "      <th>std_score_time</th>\n",
              "      <th>mean_test_score</th>\n",
              "      <th>std_test_score</th>\n",
              "      <th>rank_test_score</th>\n",
              "      <th>model</th>\n",
              "      <th>param_criterion</th>\n",
              "      <th>param_max_depth</th>\n",
              "      <th>param_max_features</th>\n",
              "    </tr>\n",
              "  </thead>\n",
              "  <tbody>\n",
              "    <tr>\n",
              "      <th>1</th>\n",
              "      <td>0.347862</td>\n",
              "      <td>0.003782</td>\n",
              "      <td>0.005822</td>\n",
              "      <td>0.000118</td>\n",
              "      <td>0.733156</td>\n",
              "      <td>0.009210</td>\n",
              "      <td>6</td>\n",
              "      <td>gbc</td>\n",
              "      <td>friedman_mse</td>\n",
              "      <td>5</td>\n",
              "      <td>sqrt</td>\n",
              "    </tr>\n",
              "    <tr>\n",
              "      <th>24</th>\n",
              "      <td>27.733295</td>\n",
              "      <td>1.192775</td>\n",
              "      <td>0.004386</td>\n",
              "      <td>0.000224</td>\n",
              "      <td>0.734222</td>\n",
              "      <td>0.003079</td>\n",
              "      <td>4</td>\n",
              "      <td>gbc</td>\n",
              "      <td>mae</td>\n",
              "      <td>5</td>\n",
              "      <td>auto</td>\n",
              "    </tr>\n",
              "    <tr>\n",
              "      <th>26</th>\n",
              "      <td>14.961702</td>\n",
              "      <td>0.319432</td>\n",
              "      <td>0.006152</td>\n",
              "      <td>0.000076</td>\n",
              "      <td>0.737422</td>\n",
              "      <td>0.009876</td>\n",
              "      <td>1</td>\n",
              "      <td>gbc</td>\n",
              "      <td>mae</td>\n",
              "      <td>5</td>\n",
              "      <td>log2</td>\n",
              "    </tr>\n",
              "  </tbody>\n",
              "</table>\n",
              "</div>"
            ],
            "text/plain": [
              "    mean_fit_time  std_fit_time  ...  param_max_depth  param_max_features\n",
              "1        0.347862      0.003782  ...                5                sqrt\n",
              "24      27.733295      1.192775  ...                5                auto\n",
              "26      14.961702      0.319432  ...                5                log2\n",
              "\n",
              "[3 rows x 11 columns]"
            ]
          },
          "metadata": {
            "tags": []
          },
          "execution_count": 57
        }
      ]
    },
    {
      "cell_type": "code",
      "metadata": {
        "id": "jrzlEl069KVu",
        "outputId": "cbf9c035-bd43-4650-d6cf-061341cc3c96",
        "colab": {
          "base_uri": "https://localhost:8080/",
          "height": 665
        }
      },
      "source": [
        "#Predictions on the holdout\n",
        "gbcP = gbcGs.predict(X_test)\n",
        "plot_cm(confusion_matrix(y_test, gbcP),['No Churn','Yes Churn'],False)"
      ],
      "execution_count": null,
      "outputs": [
        {
          "output_type": "display_data",
          "data": {
            "image/png": "[encoded data removed]",
            "text/plain": [
              "<Figure size 1008x792 with 2 Axes>"
            ]
          },
          "metadata": {
            "tags": []
          }
        }
      ]
    },
    {
      "cell_type": "code",
      "metadata": {
        "id": "4D9RG-S69KV1",
        "outputId": "79ca9218-8885-4fe6-f1f5-5bde1bd96ea3",
        "colab": {
          "base_uri": "https://localhost:8080/"
        }
      },
      "source": [
        "print(classification_report(y_test, gbcP, target_names=target_names))"
      ],
      "execution_count": null,
      "outputs": [
        {
          "output_type": "stream",
          "text": [
            "              precision    recall  f1-score   support\n",
            "\n",
            "    No Churn       0.72      0.98      0.83      1006\n",
            "   Yes Churn       0.37      0.02      0.05       401\n",
            "\n",
            "    accuracy                           0.71      1407\n",
            "   macro avg       0.54      0.50      0.44      1407\n",
            "weighted avg       0.62      0.71      0.61      1407\n",
            "\n"
          ],
          "name": "stdout"
        }
      ]
    },
    {
      "cell_type": "markdown",
      "metadata": {
        "id": "zyVczgSR99oU"
      },
      "source": [
        "# Time Analyis/Comparison\n"
      ]
    },
    {
      "cell_type": "code",
      "metadata": {
        "id": "HYhcXSLpMWzi",
        "outputId": "b812af5f-6785-46b7-fde7-ed5788327f7f",
        "colab": {
          "base_uri": "https://localhost:8080/",
          "height": 543
        }
      },
      "source": [
        "#A bar graph representing the process times. \n",
        "plt.style.use(['dark_background'])\n",
        "timecol = ['model', 'mean_score_time', 'mean_fit_time'] \n",
        "results[timecol].groupby(by='model').min().plot.barh(figsize=(7,8))\n",
        "plt.suptitle('Model Speed Chart', color='w')\n",
        "plt.legend(['score', 'fit'], loc='lower right', title='speed')\n",
        "plt.show()"
      ],
      "execution_count": null,
      "outputs": [
        {
          "output_type": "display_data",
          "data": {
            "image/png": "[encoded data removed]",
            "text/plain": [
              "<Figure size 504x576 with 1 Axes>"
            ]
          },
          "metadata": {
            "tags": []
          }
        }
      ]
    },
    {
      "cell_type": "markdown",
      "metadata": {
        "id": "Zd9rbVfr948j"
      },
      "source": [
        "# Conclusion\n",
        "\n",
        "The dummy classifier was the best model to use for this project. \n",
        "\n",
        "It did a superb job in providing a baseline for the accuracy, precision, and recall on all models. Using this classifier as a baseline for feature engineering success will lead to optimized model selection and evaluation. "
      ]
    },
    {
      "cell_type": "code",
      "metadata": {
        "id": "r3se1q4xYYoM",
        "outputId": "6bcc654a-8c7d-4c79-95c1-6a1d4a6ec753",
        "colab": {
          "base_uri": "https://localhost:8080/"
        }
      },
      "source": [
        "dumResults[['mean_fit_time', 'mean_score_time']].mean()"
      ],
      "execution_count": null,
      "outputs": [
        {
          "output_type": "execute_result",
          "data": {
            "text/plain": [
              "mean_fit_time      0.001263\n",
              "mean_score_time    0.000475\n",
              "dtype: float64"
            ]
          },
          "metadata": {
            "tags": []
          },
          "execution_count": 61
        }
      ]
    },
    {
      "cell_type": "code",
      "metadata": {
        "id": "o3Y9si6HnuP_",
        "outputId": "a65d540c-e64d-4369-ed46-c003bf00e9bc",
        "colab": {
          "base_uri": "https://localhost:8080/",
          "height": 376
        }
      },
      "source": [
        "fig, ax = plt.subplots(figsize=(10,5))\n",
        "#call the bar plot.\n",
        "sns.barplot(data=dumResults[['mean_test_score', 'param_strategy']], x='param_strategy', y='mean_test_score', ax=ax)\n",
        "#set the x and y labels.\n",
        "ax.set(ylabel='Accuracy', xlabel='Strategy')\n",
        "#name the plot.\n",
        "plt.suptitle(\"Dummy Classifier Accuracy\")\n",
        "plt.show()"
      ],
      "execution_count": null,
      "outputs": [
        {
          "output_type": "display_data",
          "data": {
            "image/png": "[encoded data removed]",
            "text/plain": [
              "<Figure size 720x360 with 1 Axes>"
            ]
          },
          "metadata": {
            "tags": []
          }
        }
      ]
    },
    {
      "cell_type": "markdown",
      "metadata": {
        "id": "2Ckh2b2aVupg"
      },
      "source": [
        "# *afterward*\n",
        "\n",
        "With 73% accuracy and high precision and recall scores on predicting that individuals will not turn over, I recommend that action be taken to reduce churn.\n",
        "\n",
        "I suggest that the company introduce bundled services that will reduce  customers' monthly charges. \n",
        "\n",
        "Another analysis would need to be conducted in order to determine which services should be bundled and how many. It is possible that one of these prediction models can aide in determining these factors. "
      ]
    }
  ]
}